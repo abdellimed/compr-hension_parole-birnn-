{
  "cells": [
    {
      "cell_type": "code",
      "execution_count": null,
      "metadata": {
        "id": "GSCpqTho7dQv"
      },
      "outputs": [],
      "source": []
    },
    {
      "cell_type": "code",
      "execution_count": 1,
      "metadata": {
        "colab": {
          "base_uri": "https://localhost:8080/"
        },
        "id": "20jbB_wp3-UE",
        "outputId": "0a1e2a47-90c3-490b-ae73-79473e8c9166"
      },
      "outputs": [
        {
          "output_type": "stream",
          "name": "stdout",
          "text": [
            "Cloning into 'arabert'...\n",
            "remote: Enumerating objects: 600, done.\u001b[K\n",
            "remote: Counting objects: 100% (65/65), done.\u001b[K\n",
            "remote: Compressing objects: 100% (33/33), done.\u001b[K\n",
            "remote: Total 600 (delta 38), reused 45 (delta 30), pack-reused 535\u001b[K\n",
            "Receiving objects: 100% (600/600), 9.14 MiB | 8.77 MiB/s, done.\n",
            "Resolving deltas: 100% (339/339), done.\n",
            "\u001b[2K     \u001b[90m━━━━━━━━━━━━━━━━━━━━━━━━━━━━━━━━━━━━━━━━\u001b[0m \u001b[32m6.3/6.3 MB\u001b[0m \u001b[31m43.1 MB/s\u001b[0m eta \u001b[36m0:00:00\u001b[0m\n",
            "\u001b[2K     \u001b[90m━━━━━━━━━━━━━━━━━━━━━━━━━━━━━━━━━━━━━━━━\u001b[0m \u001b[32m7.6/7.6 MB\u001b[0m \u001b[31m66.6 MB/s\u001b[0m eta \u001b[36m0:00:00\u001b[0m\n",
            "\u001b[2K     \u001b[90m━━━━━━━━━━━━━━━━━━━━━━━━━━━━━━━━━━━━━━\u001b[0m \u001b[32m190.3/190.3 KB\u001b[0m \u001b[31m17.1 MB/s\u001b[0m eta \u001b[36m0:00:00\u001b[0m\n",
            "\u001b[2K     \u001b[90m━━━━━━━━━━━━━━━━━━━━━━━━━━━━━━━━━━━━━━━\u001b[0m \u001b[32m469.0/469.0 KB\u001b[0m \u001b[31m9.5 MB/s\u001b[0m eta \u001b[36m0:00:00\u001b[0m\n",
            "\u001b[2K     \u001b[90m━━━━━━━━━━━━━━━━━━━━━━━━━━━━━━━━━━━━━━\u001b[0m \u001b[32m132.0/132.0 KB\u001b[0m \u001b[31m14.8 MB/s\u001b[0m eta \u001b[36m0:00:00\u001b[0m\n",
            "\u001b[2K     \u001b[90m━━━━━━━━━━━━━━━━━━━━━━━━━━━━━━━━━━━━━━\u001b[0m \u001b[32m213.0/213.0 KB\u001b[0m \u001b[31m14.1 MB/s\u001b[0m eta \u001b[36m0:00:00\u001b[0m\n",
            "\u001b[2K     \u001b[90m━━━━━━━━━━━━━━━━━━━━━━━━━━━━━━━━━━━━━━━\u001b[0m \u001b[32m126.4/126.4 KB\u001b[0m \u001b[31m3.9 MB/s\u001b[0m eta \u001b[36m0:00:00\u001b[0m\n",
            "\u001b[2K     \u001b[90m━━━━━━━━━━━━━━━━━━━━━━━━━━━━━━━━━━━━━━━\u001b[0m \u001b[32m240.9/240.9 KB\u001b[0m \u001b[31m6.0 MB/s\u001b[0m eta \u001b[36m0:00:00\u001b[0m\n",
            "\u001b[?25h  Preparing metadata (setup.py) ... \u001b[?25l\u001b[?25hdone\n",
            "  Building wheel for emoji (setup.py) ... \u001b[?25l\u001b[?25hdone\n",
            "Looking in indexes: https://pypi.org/simple, https://us-python.pkg.dev/colab-wheels/public/simple/\n",
            "Requirement already satisfied: nltk in /usr/local/lib/python3.8/dist-packages (3.7)\n",
            "Requirement already satisfied: tqdm in /usr/local/lib/python3.8/dist-packages (from nltk) (4.64.1)\n",
            "Requirement already satisfied: joblib in /usr/local/lib/python3.8/dist-packages (from nltk) (1.2.0)\n",
            "Requirement already satisfied: click in /usr/local/lib/python3.8/dist-packages (from nltk) (8.1.3)\n",
            "Requirement already satisfied: regex>=2021.8.3 in /usr/local/lib/python3.8/dist-packages (from nltk) (2022.6.2)\n",
            "Looking in indexes: https://pypi.org/simple, https://us-python.pkg.dev/colab-wheels/public/simple/\n",
            "Requirement already satisfied: gensim in /usr/local/lib/python3.8/dist-packages (3.6.0)\n",
            "Requirement already satisfied: scipy>=0.18.1 in /usr/local/lib/python3.8/dist-packages (from gensim) (1.7.3)\n",
            "Requirement already satisfied: numpy>=1.11.3 in /usr/local/lib/python3.8/dist-packages (from gensim) (1.22.4)\n",
            "Requirement already satisfied: six>=1.5.0 in /usr/local/lib/python3.8/dist-packages (from gensim) (1.15.0)\n",
            "Requirement already satisfied: smart-open>=1.2.1 in /usr/local/lib/python3.8/dist-packages (from gensim) (6.3.0)\n"
          ]
        }
      ],
      "source": [
        "!git clone https://github.com/aub-mind/arabert.git\n",
        "!pip install -q transformers\n",
        "!pip install -q datasets\n",
        "!pip install -q farasapy\n",
        "!pip install -q pyarabic\n",
        "!pip install -q emoji\n",
        "!pip install nltk\n",
        "!pip install gensim"
      ]
    },
    {
      "cell_type": "code",
      "source": [],
      "metadata": {
        "id": "lceNHx5k8NP0"
      },
      "execution_count": 1,
      "outputs": []
    },
    {
      "cell_type": "code",
      "source": [
        "def unique(list_inp,list_cl):\n",
        "  res_list = []\n",
        "  cls=[]\n",
        "  for i in range(len(list_inp)): \n",
        "      if list_inp[i] not in res_list: \n",
        "          res_list.append(list_inp[i])\n",
        "          cls.append(list_cl[i]) \n",
        "          \n",
        "  return res_list,cls"
      ],
      "metadata": {
        "id": "3SX7UY-p9n9R"
      },
      "execution_count": null,
      "outputs": []
    },
    {
      "cell_type": "code",
      "source": [],
      "metadata": {
        "id": "9X7S-JoTM-xC"
      },
      "execution_count": null,
      "outputs": []
    },
    {
      "cell_type": "code",
      "source": [],
      "metadata": {
        "id": "amwNALH4-FmQ"
      },
      "execution_count": null,
      "outputs": []
    },
    {
      "cell_type": "code",
      "source": [],
      "metadata": {
        "colab": {
          "base_uri": "https://localhost:8080/"
        },
        "id": "8AVLTOdbNwXd",
        "outputId": "9ac89b58-4270-4fd3-ee9b-bd3f2c86280a"
      },
      "execution_count": null,
      "outputs": [
        {
          "output_type": "execute_result",
          "data": {
            "text/plain": [
              "[[1, 2, 3], [1, 2]]"
            ]
          },
          "metadata": {},
          "execution_count": 82
        }
      ]
    },
    {
      "cell_type": "code",
      "source": [
        "cls"
      ],
      "metadata": {
        "colab": {
          "base_uri": "https://localhost:8080/"
        },
        "id": "zEfy2FR8Nzlm",
        "outputId": "b5e7671a-1414-4e6f-8a57-b1fc0810f96a"
      },
      "execution_count": null,
      "outputs": [
        {
          "output_type": "execute_result",
          "data": {
            "text/plain": [
              "[['1', '2', '3'], ['1', '2']]"
            ]
          },
          "metadata": {},
          "execution_count": 83
        }
      ]
    },
    {
      "cell_type": "markdown",
      "metadata": {
        "id": "cUXQpfXe_GTe"
      },
      "source": [
        "## import bibliothéque"
      ]
    },
    {
      "cell_type": "code",
      "execution_count": null,
      "metadata": {
        "colab": {
          "base_uri": "https://localhost:8080/"
        },
        "id": "c7hU1NW0_K9A",
        "outputId": "7e2e4060-5bef-459e-fa60-fcfa55a84b37"
      },
      "outputs": [
        {
          "output_type": "stream",
          "name": "stderr",
          "text": [
            "[nltk_data] Downloading package punkt to /root/nltk_data...\n",
            "[nltk_data]   Unzipping tokenizers/punkt.zip.\n"
          ]
        }
      ],
      "source": [
        "from sklearn.model_selection import train_test_split\n",
        "from pathlib import Path\n",
        "import torch\n",
        "from torch.utils.data import Dataset, DataLoader\n",
        "import transformers\n",
        "from transformers import AutoModel, BertTokenizerFast, AutoModelForSequenceClassification, Trainer, TrainingArguments\n",
        "from pandas import DataFrame\n",
        "from bs4 import BeautifulSoup\n",
        "import nltk\n",
        "nltk.download('punkt')\n",
        "from nltk.tokenize import sent_tokenize, word_tokenize\n",
        "import warnings\n",
        "warnings.filterwarnings(action = 'ignore')\n",
        "import gensim\n",
        "from gensim.models import Word2Vec, FastText\n",
        "import pandas as pd\n",
        "import numpy as np\n",
        "import re\n",
        "from sklearn.utils import shuffle\n",
        "from keras.layers import *\n",
        "from keras.models import Model\n",
        "import matplotlib.pyplot as plt\n",
        "from arabert.preprocess import ArabertPreprocessor\n",
        "from transformers import AutoTokenizer, AutoModel\n",
        "from arabert.preprocess import ArabertPreprocessor\n",
        "from arabert import preprocess\n",
        "#from arabert.preprocess_arabert import never_split_tokens, \n",
        "from farasa.segmenter import FarasaSegmenter\n",
        "import torch\n",
        "from sklearn.metrics import precision_recall_fscore_support, accuracy_score\n"
      ]
    },
    {
      "cell_type": "code",
      "execution_count": null,
      "metadata": {
        "id": "pcKqbV8_p9Ka"
      },
      "outputs": [],
      "source": [
        "import collections\n",
        "import tensorflow\n",
        "import numpy as np\n",
        "from keras.preprocessing.text import Tokenizer\n",
        "from tensorflow.keras.preprocessing.sequence import pad_sequences\n",
        "from tensorflow.keras.models import Model, Sequential\n",
        "from tensorflow.keras.layers import GRU, Input, Dense, TimeDistributed, Activation, RepeatVector, Bidirectional, Dropout, LSTM\n",
        "from tensorflow.keras.optimizers import Adam\n",
        "from keras.losses import sparse_categorical_crossentropy\n",
        "from keras.layers import Embedding"
      ]
    },
    {
      "cell_type": "code",
      "execution_count": null,
      "metadata": {
        "id": "wqFSIkVcDXO-"
      },
      "outputs": [],
      "source": [
        "import json\n",
        "import ast"
      ]
    },
    {
      "cell_type": "markdown",
      "metadata": {
        "id": "SmfWZXRNAnW8"
      },
      "source": [
        "# Dataset"
      ]
    },
    {
      "cell_type": "code",
      "execution_count": null,
      "metadata": {
        "id": "NdBw980b0jm4"
      },
      "outputs": [],
      "source": [
        "from bs4 import BeautifulSoup as bs\n",
        "from bs4.element import Comment\n",
        "import pandas as pd\n",
        "import numpy as np\n",
        "import requests\n",
        "import random"
      ]
    },
    {
      "cell_type": "code",
      "execution_count": null,
      "metadata": {
        "colab": {
          "base_uri": "https://localhost:8080/"
        },
        "id": "U8LSpe4wr6O0",
        "outputId": "d5e0e7f5-34bb-4192-c407-ecabe7bb94dd"
      },
      "outputs": [
        {
          "output_type": "stream",
          "name": "stdout",
          "text": [
            "Mounted at /content/drive\n"
          ]
        }
      ],
      "source": [
        "from google.colab import drive\n",
        "drive.mount('/content/drive')"
      ]
    },
    {
      "cell_type": "code",
      "source": [
        "def xmltosentences(file_path):\n",
        "  content = []\n",
        "  # Read the XML file\n",
        "  with open(file_path, \"r\") as file:\n",
        "      # Read each line in the file, readlines() returns a list of lines\n",
        "      content = file.readlines()\n",
        "  # Combine the lines in the list into a string\n",
        "  content = \"\".join(content)\n",
        "  bs_content = bs(content, \"lxml\")\n",
        "  child = bs_content.find_all(\"utterance\")\n",
        "  classes=[]\n",
        "  sentences=[]\n",
        "  for chil in child:\n",
        "    ch=chil.find_all('token')\n",
        "    if len(ch)!=0:\n",
        "      sentences.append([x['value'] for x in ch])\n",
        "      classes.append([x['concept'] for x in ch])\n",
        "  return sentences,classes\n",
        "  "
      ],
      "metadata": {
        "id": "_1BpkLSGAWwo"
      },
      "execution_count": null,
      "outputs": []
    },
    {
      "cell_type": "code",
      "source": [
        "import glob\n",
        "path_files=glob.glob(\"/content/drive/MyDrive/projet_mémoire/Corpus annoté XML/*\")"
      ],
      "metadata": {
        "id": "KrurUnKLBseE"
      },
      "execution_count": null,
      "outputs": []
    },
    {
      "cell_type": "code",
      "source": [
        "classes_xml=[]\n",
        "sentences_xml=[]\n",
        "for path in path_files:\n",
        "  classes_xml=classes_xml+xmltosentences(path)[1]\n",
        "  sentences_xml=sentences_xml+xmltosentences(path)[0]\n"
      ],
      "metadata": {
        "id": "KV6cv-evDk9X"
      },
      "execution_count": null,
      "outputs": []
    },
    {
      "cell_type": "code",
      "execution_count": null,
      "metadata": {
        "id": "iUqg9s7LZZ5U"
      },
      "outputs": [],
      "source": [
        "Train=pd.read_table('/content/drive/MyDrive/projet_mémoire/Corpus_Entrainement_Annote_CRF_28.data',names=['mot', 'label'],header=None)\n",
        "Test=pd.read_table('/content/drive/MyDrive/projet_mémoire/Corpus_Test_Corpus_26_et_13.data',names=['mot', 'label'],header=None)"
      ]
    },
    {
      "cell_type": "code",
      "execution_count": null,
      "metadata": {
        "id": "9HmmSRVCZijx"
      },
      "outputs": [],
      "source": [
        "def read_data(path_file):\n",
        "  \n",
        "  with open(path_file) as f:\n",
        "      contents = f.read()\n",
        "     # file.append(contents)\n",
        "  contents=contents.replace('\\ufeff', '')\n",
        "  contents=contents.split('\\n\\n\\n')\n",
        "  contents=[x.split('\\n') for x in contents]\n",
        "  classes=[]\n",
        "  sentences=[]\n",
        "  for i in range(len(contents)):\n",
        "    snt=[]\n",
        "    cls=[]\n",
        "    for j in list(filter(None, contents[i])): #list(filter(None, file[i])) pour suprimer le vide dans la liste  ;exemple :['عشره\\tB-Ticket_Type', 'سنين\\tI-Ticket_Type', '', '']\n",
        "      lll=j.split('\\t')\n",
        "      s=lll[0]\n",
        "      c=lll[1]\n",
        "      cls.append(c)\n",
        "      snt.append(s)\n",
        "    classes.append(cls)\n",
        "    sentences.append(snt)\n",
        "  return sentences,classes"
      ]
    },
    {
      "cell_type": "code",
      "execution_count": null,
      "metadata": {
        "id": "52llcn4MZigX"
      },
      "outputs": [],
      "source": [
        "train_sentences,train_classes=read_data('/content/drive/MyDrive/projet_mémoire/Corpus_Entrainement_Annote_CRF_28.data')\n",
        "test_sentences,test_classes=read_data('/content/drive/MyDrive/projet_mémoire/Corpus_Test_Corpus_26_et_13.data')"
      ]
    },
    {
      "cell_type": "code",
      "source": [
        "train_sentences=train_sentences+sentences_xml\n",
        "train_classes=train_classes+classes_xml"
      ],
      "metadata": {
        "id": "gLCvm_3VFyLi"
      },
      "execution_count": null,
      "outputs": []
    },
    {
      "cell_type": "code",
      "source": [
        "random.shuffle(train_sentences)\n",
        "random.shuffle(train_classes)"
      ],
      "metadata": {
        "id": "pzWPb5RPHAjQ"
      },
      "execution_count": null,
      "outputs": []
    },
    {
      "cell_type": "code",
      "source": [
        "train_sentences,train_classes=unique(train_sentences,train_classes)"
      ],
      "metadata": {
        "id": "8DV1Db3bIUcc"
      },
      "execution_count": null,
      "outputs": []
    },
    {
      "cell_type": "code",
      "execution_count": null,
      "metadata": {
        "colab": {
          "base_uri": "https://localhost:8080/"
        },
        "id": "qhWyAnVTlDDM",
        "outputId": "29cc46c0-f782-457d-d3ee-cd3a0e6ec4eb"
      },
      "outputs": [
        {
          "output_type": "execute_result",
          "data": {
            "text/plain": [
              "28"
            ]
          },
          "metadata": {},
          "execution_count": 58
        }
      ],
      "source": [
        "len(max(train_sentences, key=len))"
      ]
    },
    {
      "cell_type": "code",
      "execution_count": null,
      "metadata": {
        "colab": {
          "base_uri": "https://localhost:8080/"
        },
        "id": "IJjsAR1XC763",
        "outputId": "1d4f2ef5-12ab-4ce3-b961-89e7b070a665"
      },
      "outputs": [
        {
          "output_type": "execute_result",
          "data": {
            "text/plain": [
              "28"
            ]
          },
          "metadata": {},
          "execution_count": 59
        }
      ],
      "source": [
        "len(max(test_sentences, key=len))\n",
        "len(max(train_sentences, key=len)) # longuer de la phrase la plus longue"
      ]
    },
    {
      "cell_type": "markdown",
      "metadata": {
        "id": "7Ke2wGiD3JmA"
      },
      "source": [
        "## Vectorisation"
      ]
    },
    {
      "cell_type": "markdown",
      "metadata": {
        "id": "ORbc8sWU6Htl"
      },
      "source": [
        "## Word2vec"
      ]
    },
    {
      "cell_type": "code",
      "execution_count": null,
      "metadata": {
        "colab": {
          "base_uri": "https://localhost:8080/"
        },
        "id": "hyPvFvMp7L-E",
        "outputId": "d0fed780-8ab3-487f-d29d-26d140b44300"
      },
      "outputs": [
        {
          "output_type": "stream",
          "name": "stderr",
          "text": [
            "[nltk_data] Downloading package punkt to /root/nltk_data...\n",
            "[nltk_data]   Unzipping tokenizers/punkt.zip.\n"
          ]
        }
      ],
      "source": [
        "import nltk\n",
        "nltk.download('punkt')\n",
        "from nltk.tokenize import sent_tokenize, word_tokenize\n",
        "import warnings\n",
        "warnings.filterwarnings(action = 'ignore')\n",
        "import gensim\n",
        "from gensim.models import Word2Vec"
      ]
    },
    {
      "cell_type": "code",
      "execution_count": null,
      "metadata": {
        "colab": {
          "base_uri": "https://localhost:8080/",
          "height": 223
        },
        "id": "zepbokTp3Qa_",
        "outputId": "a5fa8ab7-8c49-4e32-f70e-8bf12bf97730"
      },
      "outputs": [
        {
          "output_type": "error",
          "ename": "NameError",
          "evalue": "ignored",
          "traceback": [
            "\u001b[0;31m---------------------------------------------------------------------------\u001b[0m",
            "\u001b[0;31mNameError\u001b[0m                                 Traceback (most recent call last)",
            "\u001b[0;32m<ipython-input-2-0d6a82f611ae>\u001b[0m in \u001b[0;36m<module>\u001b[0;34m\u001b[0m\n\u001b[1;32m      1\u001b[0m \u001b[0;31m#model1 = gensim.models.Word2Vec(corpus, min_count = 1,size = 100, window = 5)\u001b[0m\u001b[0;34m\u001b[0m\u001b[0;34m\u001b[0m\u001b[0;34m\u001b[0m\u001b[0m\n\u001b[0;32m----> 2\u001b[0;31m model2 = gensim.models.Word2Vec(train_sentences, min_count = 1, size = 100,\n\u001b[0m\u001b[1;32m      3\u001b[0m \t\t\t\t\t\t\t\t\t\t\twindow = 5, sg = 1)\n\u001b[1;32m      4\u001b[0m \u001b[0mmodel2\u001b[0m\u001b[0;34m.\u001b[0m\u001b[0mwv\u001b[0m\u001b[0;34m.\u001b[0m\u001b[0mget_vector\u001b[0m\u001b[0;34m(\u001b[0m\u001b[0;34m'تونس'\u001b[0m\u001b[0;34m)\u001b[0m\u001b[0;34m.\u001b[0m\u001b[0mshape\u001b[0m\u001b[0;34m\u001b[0m\u001b[0;34m\u001b[0m\u001b[0m\n",
            "\u001b[0;31mNameError\u001b[0m: name 'train_sentences' is not defined"
          ]
        }
      ],
      "source": [
        "#model1 = gensim.models.Word2Vec(corpus, min_count = 1,size = 100, window = 5)\n",
        "model2 = gensim.models.Word2Vec(train_sentences, min_count = 1, size = 100,\n",
        "\t\t\t\t\t\t\t\t\t\t\twindow = 5, sg = 1)\n",
        "model2.wv.get_vector('تونس').shape "
      ]
    },
    {
      "cell_type": "markdown",
      "metadata": {
        "id": "OdoDYcVP8Ui4"
      },
      "source": [
        "## FAST Text"
      ]
    },
    {
      "cell_type": "code",
      "execution_count": null,
      "metadata": {
        "colab": {
          "base_uri": "https://localhost:8080/"
        },
        "id": "clRz8rrm8UP1",
        "outputId": "0ad4b789-af76-4bba-bb6e-fbf2a8f77a6e"
      },
      "outputs": [
        {
          "name": "stderr",
          "output_type": "stream",
          "text": [
            "WARNING:gensim.models.base_any2vec:under 10 jobs per worker: consider setting a smaller `batch_words' for smoother alpha decay\n"
          ]
        }
      ],
      "source": [
        "from gensim.models import FastText\n",
        "model_fast = FastText(train_sentences, size=20, window=5, min_count=5, workers=4,sg=1)"
      ]
    },
    {
      "cell_type": "code",
      "execution_count": null,
      "metadata": {
        "colab": {
          "base_uri": "https://localhost:8080/"
        },
        "id": "ZziRFV3-8gM2",
        "outputId": "8810a675-1599-4c91-f364-3c42424af219"
      },
      "outputs": [
        {
          "data": {
            "text/plain": [
              "array([-1.0152877e-01,  5.1129684e-02, -2.6785174e-01, -3.9250496e-01,\n",
              "       -6.6561139e-01, -7.8561679e-02, -2.9770714e-01,  3.4985751e-02,\n",
              "       -4.0732224e-02,  4.2455146e-01, -7.4290849e-02, -1.5072159e-01,\n",
              "       -4.8983860e-04,  4.2936096e-01,  3.9297479e-01, -1.4884628e-01,\n",
              "        1.7314525e-01, -3.3077139e-01, -5.9778836e-02,  3.2073343e-01],\n",
              "      dtype=float32)"
            ]
          },
          "execution_count": 17,
          "metadata": {},
          "output_type": "execute_result"
        }
      ],
      "source": [
        "model_fast.wv['أعطيني']"
      ]
    },
    {
      "cell_type": "code",
      "execution_count": null,
      "metadata": {
        "id": "OPrpjDUj8f-1"
      },
      "outputs": [],
      "source": []
    },
    {
      "cell_type": "markdown",
      "metadata": {
        "id": "3E4ySmF76NxN"
      },
      "source": [
        "## Arabert"
      ]
    },
    {
      "cell_type": "code",
      "execution_count": null,
      "metadata": {
        "colab": {
          "base_uri": "https://localhost:8080/"
        },
        "id": "mD3sQn803Nf5",
        "outputId": "f339bb1f-4789-42f8-f0b5-0b9799d8b3eb"
      },
      "outputs": [
        {
          "name": "stdout",
          "output_type": "stream",
          "text": [
            "Looking in indexes: https://pypi.org/simple, https://us-python.pkg.dev/colab-wheels/public/simple/\n",
            "Requirement already satisfied: transformers in /usr/local/lib/python3.8/dist-packages (4.26.0)\n",
            "Requirement already satisfied: filelock in /usr/local/lib/python3.8/dist-packages (from transformers) (3.9.0)\n",
            "Requirement already satisfied: pyyaml>=5.1 in /usr/local/lib/python3.8/dist-packages (from transformers) (6.0)\n",
            "Requirement already satisfied: numpy>=1.17 in /usr/local/lib/python3.8/dist-packages (from transformers) (1.21.6)\n",
            "Requirement already satisfied: packaging>=20.0 in /usr/local/lib/python3.8/dist-packages (from transformers) (23.0)\n",
            "Requirement already satisfied: requests in /usr/local/lib/python3.8/dist-packages (from transformers) (2.25.1)\n",
            "Requirement already satisfied: regex!=2019.12.17 in /usr/local/lib/python3.8/dist-packages (from transformers) (2022.6.2)\n",
            "Requirement already satisfied: tokenizers!=0.11.3,<0.14,>=0.11.1 in /usr/local/lib/python3.8/dist-packages (from transformers) (0.13.2)\n",
            "Requirement already satisfied: huggingface-hub<1.0,>=0.11.0 in /usr/local/lib/python3.8/dist-packages (from transformers) (0.12.0)\n",
            "Requirement already satisfied: tqdm>=4.27 in /usr/local/lib/python3.8/dist-packages (from transformers) (4.64.1)\n",
            "Requirement already satisfied: typing-extensions>=3.7.4.3 in /usr/local/lib/python3.8/dist-packages (from huggingface-hub<1.0,>=0.11.0->transformers) (4.4.0)\n",
            "Requirement already satisfied: idna<3,>=2.5 in /usr/local/lib/python3.8/dist-packages (from requests->transformers) (2.10)\n",
            "Requirement already satisfied: chardet<5,>=3.0.2 in /usr/local/lib/python3.8/dist-packages (from requests->transformers) (4.0.0)\n",
            "Requirement already satisfied: certifi>=2017.4.17 in /usr/local/lib/python3.8/dist-packages (from requests->transformers) (2022.12.7)\n",
            "Requirement already satisfied: urllib3<1.27,>=1.21.1 in /usr/local/lib/python3.8/dist-packages (from requests->transformers) (1.26.14)\n",
            "Looking in indexes: https://pypi.org/simple, https://us-python.pkg.dev/colab-wheels/public/simple/\n",
            "Requirement already satisfied: farasapy in /usr/local/lib/python3.8/dist-packages (0.0.14)\n",
            "Requirement already satisfied: requests in /usr/local/lib/python3.8/dist-packages (from farasapy) (2.25.1)\n",
            "Requirement already satisfied: tqdm in /usr/local/lib/python3.8/dist-packages (from farasapy) (4.64.1)\n",
            "Requirement already satisfied: certifi>=2017.4.17 in /usr/local/lib/python3.8/dist-packages (from requests->farasapy) (2022.12.7)\n",
            "Requirement already satisfied: chardet<5,>=3.0.2 in /usr/local/lib/python3.8/dist-packages (from requests->farasapy) (4.0.0)\n",
            "Requirement already satisfied: urllib3<1.27,>=1.21.1 in /usr/local/lib/python3.8/dist-packages (from requests->farasapy) (1.26.14)\n",
            "Requirement already satisfied: idna<3,>=2.5 in /usr/local/lib/python3.8/dist-packages (from requests->farasapy) (2.10)\n",
            "Looking in indexes: https://pypi.org/simple, https://us-python.pkg.dev/colab-wheels/public/simple/\n",
            "Requirement already satisfied: pyarabic in /usr/local/lib/python3.8/dist-packages (0.6.15)\n",
            "Requirement already satisfied: six>=1.14.0 in /usr/local/lib/python3.8/dist-packages (from pyarabic) (1.15.0)\n"
          ]
        }
      ],
      "source": [
        "!pip install transformers\n",
        "!pip install farasapy\n",
        "!pip install pyarabic"
      ]
    },
    {
      "cell_type": "code",
      "execution_count": null,
      "metadata": {
        "colab": {
          "base_uri": "https://localhost:8080/",
          "height": 113,
          "referenced_widgets": [
            "db06eb31ded248ab9374744ddc4d2922",
            "7f81661426d14e52ac82066c39aec273",
            "7e308af116e7483fa2d29d38e7d2ed89",
            "e11a14467d4b4e1d9b5da98a8e375aa5",
            "98c6c4fdefda4ab19e54259a775ea6e7",
            "c05b05a46b534c59a49dd56fe7bd848b",
            "de251a12a8a649b98776ffb526df9243",
            "2bcfc8244f6a45509d24f50d1c4731e2",
            "5df0b26417f74026a800ecafab1025e8",
            "4af0c43e3c5a404bb0783e68b65ca042",
            "a9ee8c5b60dc491f9a5167dedbc1c2ca",
            "0c3366d58a814ba384968e2367074df8",
            "7575d74dfd864587a523e0a92aa087ce",
            "23f3ff07eb35413a817f1521e1907daa",
            "af05473e746344a7b308750ad1630f51",
            "f81c91a69936400087b3b8e3dce6ca68",
            "a2e8b0fcf14f41d88158aaa49ff3c5b9",
            "a5db2f716d3a4a6f996f00c9d485ce93",
            "b8983d3e7ab34849bcf68996c84bb92b",
            "af4bb919be6f4714a5ef97f675750952",
            "9b93e373c88942f4a9e26c671c74c0b0",
            "60038c102e0f45a99f66f0a7641500bf",
            "066316535b524bb1b7d4e66f290a913d",
            "eb8ed53002db4236b34b9f3ce5953dc6",
            "7e601d0df6174e0fa87cae6f07b8f116",
            "2703bcdb90de46fa9e957e9655df9fbf",
            "7da88acede5e4b64a5fa770303656d0c",
            "21bd4faeef4f471985e58bd5b13cd72a",
            "c9983b8561a34b05aec648d624573e17",
            "fac3024ee0574d45b578c868cffe65b2",
            "1777daf919644880a3736edb44620600",
            "a7076c6cb3294a119d51eb44eca116a0",
            "c5302ee764874c4eb927e5e43af546a8"
          ]
        },
        "id": "cZwzF0I8-Ng4",
        "outputId": "57f92033-bbd9-4e83-ff65-8eb434c35361"
      },
      "outputs": [
        {
          "data": {
            "application/vnd.jupyter.widget-view+json": {
              "model_id": "db06eb31ded248ab9374744ddc4d2922",
              "version_major": 2,
              "version_minor": 0
            },
            "text/plain": [
              "Downloading (…)solve/main/vocab.txt:   0%|          | 0.00/751k [00:00<?, ?B/s]"
            ]
          },
          "metadata": {},
          "output_type": "display_data"
        },
        {
          "data": {
            "application/vnd.jupyter.widget-view+json": {
              "model_id": "0c3366d58a814ba384968e2367074df8",
              "version_major": 2,
              "version_minor": 0
            },
            "text/plain": [
              "Downloading (…)cial_tokens_map.json:   0%|          | 0.00/112 [00:00<?, ?B/s]"
            ]
          },
          "metadata": {},
          "output_type": "display_data"
        },
        {
          "data": {
            "application/vnd.jupyter.widget-view+json": {
              "model_id": "066316535b524bb1b7d4e66f290a913d",
              "version_major": 2,
              "version_minor": 0
            },
            "text/plain": [
              "Downloading (…)okenizer_config.json:   0%|          | 0.00/476 [00:00<?, ?B/s]"
            ]
          },
          "metadata": {},
          "output_type": "display_data"
        }
      ],
      "source": [
        "from transformers import BertTokenizer\n",
        "tokenizer = BertTokenizer.from_pretrained('aubmindlab/bert-base-arabertv02-twitter', do_lower_case=True)\n"
      ]
    },
    {
      "cell_type": "code",
      "execution_count": null,
      "metadata": {
        "id": "NcxqtIyHGFDs"
      },
      "outputs": [],
      "source": [
        "def bert_encode(data,maximum_length) :\n",
        "  input_ids = []\n",
        "  attention_masks = []\n",
        "  for i in range(len(data)):\n",
        "      encoded = tokenizer.encode_plus(\n",
        "        \n",
        "        data[i],\n",
        "        add_special_tokens=True,\n",
        "        max_length=maximum_length,\n",
        "        pad_to_max_length=True,\n",
        "        \n",
        "        return_attention_mask=True,\n",
        "        \n",
        "      )\n",
        "      \n",
        "      input_ids.append(encoded['input_ids'])\n",
        "      attention_masks.append(encoded['attention_mask'])\n",
        "  return np.array(input_ids),np.array(attention_masks)"
      ]
    },
    {
      "cell_type": "code",
      "execution_count": null,
      "metadata": {
        "id": "YD4Qe79lbwiG"
      },
      "outputs": [],
      "source": [
        "len_max=len(max(train_sentences, key=len))"
      ]
    },
    {
      "cell_type": "code",
      "execution_count": null,
      "metadata": {
        "colab": {
          "base_uri": "https://localhost:8080/"
        },
        "id": "AEGw9wOiGVKB",
        "outputId": "c86fc1f8-1f51-4e37-a098-65bb3596ddd4"
      },
      "outputs": [
        {
          "name": "stderr",
          "output_type": "stream",
          "text": [
            "Truncation was not explicitly activated but `max_length` is provided a specific value, please use `truncation=True` to explicitly truncate examples to max length. Defaulting to 'longest_first' truncation strategy. If you encode pairs of sequences (GLUE-style) with the tokenizer you can select this strategy more precisely by providing a specific strategy to `truncation`.\n"
          ]
        }
      ],
      "source": [
        "sent_inp,sent_attention=bert_encode(train_sentences,len_max)"
      ]
    },
    {
      "cell_type": "code",
      "execution_count": null,
      "metadata": {
        "colab": {
          "base_uri": "https://localhost:8080/"
        },
        "id": "8u1rHbG0LuLR",
        "outputId": "3c8f6a7d-5d83-4dba-942c-c89e7dbc2246"
      },
      "outputs": [
        {
          "data": {
            "text/plain": [
              "(4141, 28)"
            ]
          },
          "execution_count": 23,
          "metadata": {},
          "output_type": "execute_result"
        }
      ],
      "source": [
        "sent_inp.shape"
      ]
    },
    {
      "cell_type": "code",
      "execution_count": null,
      "metadata": {
        "colab": {
          "base_uri": "https://localhost:8080/"
        },
        "id": "zp2bOLldtrYx",
        "outputId": "73c300ea-a995-4346-f293-f801eb04f790"
      },
      "outputs": [
        {
          "data": {
            "text/plain": [
              "array([[    2,   354,     1, ...,     0,     0,     0],\n",
              "       [    2,   817,     1, ...,     0,     0,     0],\n",
              "       [    2,   817,     1, ...,     0,     0,     0],\n",
              "       ...,\n",
              "       [    2,     1,   139, ...,     0,     0,     0],\n",
              "       [    2,     1,   139, ...,     0,     0,     0],\n",
              "       [    2,     1, 17494, ...,     0,     0,     0]])"
            ]
          },
          "execution_count": 25,
          "metadata": {},
          "output_type": "execute_result"
        }
      ],
      "source": [
        "sent_inp"
      ]
    },
    {
      "cell_type": "markdown",
      "metadata": {
        "id": "MLomTaWjL04U"
      },
      "source": []
    },
    {
      "cell_type": "code",
      "execution_count": null,
      "metadata": {
        "colab": {
          "base_uri": "https://localhost:8080/"
        },
        "id": "35AoMhGzL3vf",
        "outputId": "07ca37f1-e0b8-401f-9ee3-a11e48d67c6a"
      },
      "outputs": [
        {
          "name": "stdout",
          "output_type": "stream",
          "text": [
            "There are 1 GPU(s) available.\n",
            "Device name: Tesla T4\n"
          ]
        }
      ],
      "source": [
        "import torch\n",
        "\n",
        "if torch.cuda.is_available():       \n",
        "    device = torch.device(\"cuda\")\n",
        "    print(f'There are {torch.cuda.device_count()} GPU(s) available.')\n",
        "    print('Device name:', torch.cuda.get_device_name(0))\n",
        "\n",
        "else:\n",
        "    print('No GPU available, using the CPU instead.')\n",
        "    device = torch.device(\"cpu\")"
      ]
    },
    {
      "cell_type": "markdown",
      "metadata": {
        "id": "Uyl6y-LDB7hh"
      },
      "source": [
        "# Preprocess"
      ]
    },
    {
      "cell_type": "code",
      "execution_count": null,
      "metadata": {
        "id": "sSrEfNVHVkHr"
      },
      "outputs": [],
      "source": [
        "\n",
        "from keras.preprocessing.text import Tokenizer\n",
        "\n",
        "def tokenize(x):\n",
        "    \"\"\"Tokenize x.\n",
        "    \n",
        "    Parameters:\n",
        "    x: List of sentences/strings to be tokenized\n",
        "    \n",
        "    Returns: \n",
        "    Tuple of (tokenized x data, tokenizer used to tokenize x)\n",
        "    \"\"\"\n",
        "    tokenizer = Tokenizer()\n",
        "    tokenizer.fit_on_texts(x)\n",
        "    sequences = tokenizer.texts_to_sequences(x)\n",
        "    return sequences, tokenizer"
      ]
    },
    {
      "cell_type": "code",
      "execution_count": null,
      "metadata": {
        "id": "CUDERuJHavMg"
      },
      "outputs": [],
      "source": []
    },
    {
      "cell_type": "markdown",
      "metadata": {
        "id": "-Mr2FtErawQG"
      },
      "source": [
        "# **Rembourrage** \n",
        "Lors du regroupement de la séquence d'identifiants de mots, chaque séquence doit avoir la même longueur. Étant donné que les phrases sont de longueur dynamique, nous pouvons ajouter un rembourrage à la fin des séquences pour leur donner la même longueur.\n",
        "\n"
      ]
    },
    {
      "cell_type": "code",
      "execution_count": null,
      "metadata": {
        "id": "quc054ewphET"
      },
      "outputs": [],
      "source": [
        "\n",
        "def pad(x, length=None):\n",
        "    \"\"\"Pad x.\n",
        "    Parameters:\n",
        "    x: List of sequences\n",
        "    length: Length to pad the sequence to. If None, use length of longest sequence in x\n",
        "    \n",
        "    Returns: \n",
        "    Padded numpy array of sequences\n",
        "    \"\"\"\n",
        "    if length == None:\n",
        "        longest_sequence = max(x, key=len)\n",
        "        return pad_sequences(x, len(longest_sequence), padding='post')\n",
        "    return pad_sequences(x, length, padding='post')"
      ]
    },
    {
      "cell_type": "code",
      "execution_count": null,
      "metadata": {
        "id": "mXQGeqKnqncf"
      },
      "outputs": [],
      "source": [
        "def preprocess(y):\n",
        "    \"\"\"Preprocess x and y.   \n",
        "    Parameters:\n",
        "    x: Feature list of sentences\n",
        "    y: Label list of sentences\n",
        "    Returns: \n",
        "    Tuple of (Preprocessed x, Preprocessed y, x tokenizer, y tokenizer)\n",
        "    \"\"\" \n",
        "    preprocess_y, y_tk = tokenize(y)\n",
        "    preprocess_y = pad(preprocess_y)\n",
        "    # Keras's sparse_categorical_crossentropy function requires the labels to be in 3 dimensions\n",
        "    preprocess_y = preprocess_y.reshape(*preprocess_y.shape, 1)\n",
        "\n",
        "    return  preprocess_y, y_tk\n"
      ]
    },
    {
      "cell_type": "code",
      "execution_count": null,
      "metadata": {
        "id": "4t3ibwb9iUfW"
      },
      "outputs": [],
      "source": [
        "def preprocess_s_c(x, y):\n",
        "    \"\"\"Preprocess x and y.\n",
        "    \n",
        "    Parameters:\n",
        "    x: Feature list of sentences\n",
        "    y: Label list of sentences\n",
        "    \n",
        "    Returns: \n",
        "    Tuple of (Preprocessed x, Preprocessed y, x tokenizer, y tokenizer)\n",
        "    \"\"\"\n",
        "    preprocess_x, x_tk = tokenize(x)\n",
        "    preprocess_y, y_tk = tokenize(y)\n",
        "\n",
        "    preprocess_x = pad(preprocess_x,len(max(train_sentences, key=len)))\n",
        "    preprocess_y = pad(preprocess_y,len(max(train_sentences, key=len)))\n",
        "\n",
        "    # Keras's sparse_categorical_crossentropy function requires the labels to be in 3 dimensions\n",
        "    preprocess_y = preprocess_y.reshape(*preprocess_y.shape, 1)\n",
        "\n",
        "    return preprocess_x, preprocess_y, x_tk, y_tk"
      ]
    },
    {
      "cell_type": "code",
      "execution_count": null,
      "metadata": {
        "id": "4iPFK7ho4A5m"
      },
      "outputs": [],
      "source": [
        "preproc_class, class_tokenizer =    preprocess(train_classes)"
      ]
    },
    {
      "cell_type": "code",
      "execution_count": null,
      "metadata": {
        "colab": {
          "base_uri": "https://localhost:8080/"
        },
        "id": "hKYkyIqD3-sI",
        "outputId": "4ee75557-8d40-4dd8-e5f0-db55ad05111c"
      },
      "outputs": [
        {
          "output_type": "stream",
          "name": "stdout",
          "text": [
            "`logits_to_text` function loaded.\n"
          ]
        }
      ],
      "source": [
        "\n",
        "def logits_to_text(logits, tokenizer):\n",
        "    \"\"\"Turn logits from a neural network into text using the tokenizer.\n",
        "    \n",
        "    Parameters:\n",
        "    logits: Logits from a neural network\n",
        "    tokenizer: Keras Tokenizer fit on the labels\n",
        "    \n",
        "    Returns: \n",
        "    String that represents the text of the logits\n",
        "    \"\"\"\n",
        "    index_to_words = {id: word for word, id in tokenizer.word_index.items()}\n",
        "    index_to_words[0] = ''\n",
        "    print (\"logist shape: \", logits.shape)\n",
        "\n",
        "    return ' '.join([index_to_words[prediction] for prediction in np.argmax(logits, 1)])\n",
        "\n",
        "print('`logits_to_text` function loaded.')"
      ]
    },
    {
      "cell_type": "code",
      "execution_count": null,
      "metadata": {
        "id": "7ZLvBIEhKt0w"
      },
      "outputs": [],
      "source": [
        "preproc_sentence, preproc_class, sentence_tokenizer, class_tokenizer =\\\n",
        "    preprocess_s_c(train_sentences, train_classes)"
      ]
    },
    {
      "cell_type": "code",
      "execution_count": null,
      "metadata": {
        "colab": {
          "base_uri": "https://localhost:8080/"
        },
        "id": "UZ6ItiX-mIXX",
        "outputId": "394fe168-6c2b-4b60-f32a-3cd96e06cc62"
      },
      "outputs": [
        {
          "output_type": "execute_result",
          "data": {
            "text/plain": [
              "1567"
            ]
          },
          "metadata": {},
          "execution_count": 93
        }
      ],
      "source": [
        "len(sentence_tokenizer.index_word)"
      ]
    },
    {
      "cell_type": "code",
      "execution_count": null,
      "metadata": {
        "colab": {
          "base_uri": "https://localhost:8080/"
        },
        "id": "gilYeskotswY",
        "outputId": "b089506a-885a-426e-d516-0d49bdff1e00"
      },
      "outputs": [
        {
          "output_type": "execute_result",
          "data": {
            "text/plain": [
              "(3456, 28)"
            ]
          },
          "metadata": {},
          "execution_count": 94
        }
      ],
      "source": [
        "preproc_sentence.shape"
      ]
    },
    {
      "cell_type": "code",
      "execution_count": null,
      "metadata": {
        "colab": {
          "base_uri": "https://localhost:8080/"
        },
        "id": "lb1IAsjmmJLq",
        "outputId": "460ebfea-a970-454d-9fc3-084c46261592"
      },
      "outputs": [
        {
          "output_type": "execute_result",
          "data": {
            "text/plain": [
              "94"
            ]
          },
          "metadata": {},
          "execution_count": 95
        }
      ],
      "source": [
        "len(class_tokenizer.index_word)"
      ]
    },
    {
      "cell_type": "code",
      "execution_count": null,
      "metadata": {
        "colab": {
          "base_uri": "https://localhost:8080/"
        },
        "id": "OJqb22zmwwKV",
        "outputId": "116fc22a-cadb-4ae0-e13c-e191a29617ed"
      },
      "outputs": [
        {
          "output_type": "execute_result",
          "data": {
            "text/plain": [
              "(3456, 28, 1)"
            ]
          },
          "metadata": {},
          "execution_count": 96
        }
      ],
      "source": [
        "preproc_class.shape"
      ]
    },
    {
      "cell_type": "code",
      "execution_count": null,
      "metadata": {
        "colab": {
          "base_uri": "https://localhost:8080/"
        },
        "id": "b9JVK8di5RXN",
        "outputId": "aabe7acd-3fb0-49c5-c5bb-57d2a7908e9e"
      },
      "outputs": [
        {
          "output_type": "stream",
          "name": "stdout",
          "text": [
            "(3456, 28, 1)\n",
            "(3456, 28)\n"
          ]
        }
      ],
      "source": [
        "print(preproc_class.shape)\n",
        "\n",
        "print(preproc_sentence.shape)"
      ]
    },
    {
      "cell_type": "markdown",
      "metadata": {
        "id": "5V7kPW9MCIv1"
      },
      "source": [
        "# Models"
      ]
    },
    {
      "cell_type": "markdown",
      "metadata": {
        "id": "WLAWYAnQC3vK"
      },
      "source": [
        "## RNN \n",
        "Un modèle RNN de base est une bonne référence pour les données de séquence\n",
        "\n",
        "Une époque signifie entraîner le réseau de neurones avec toutes les données d'entraînement pour un cycle. Dans une époque, nous utilisons toutes les données exactement une fois. Une passe avant et une passe arrière ensemble comptent pour une seule passe \n",
        "\n",
        "Une époque est composée d'un ou plusieurs lots , où nous utilisons une partie de l'ensemble de données pour entraîner le réseau de neurones. Nous appelons le passage à travers les exemples de formation dans un lot une itération .\n"
      ]
    },
    {
      "cell_type": "code",
      "execution_count": null,
      "metadata": {
        "id": "9SXhyeIE5pWq"
      },
      "outputs": [],
      "source": [
        "from keras.backend import dropout\n",
        "def simple_model(input_shape, class_vocab_size,max_len_class):\n",
        "    \"\"\"Build and train a basic RNN on x and y.\n",
        "    Parameters:\n",
        "    input_shape: Tuple of input shape \n",
        "    Returns: \n",
        "    Keras model built, but not trained\n",
        "    \"\"\"\n",
        "    learning_rate = 0.01\n",
        "    inputs = Input(shape=input_shape[1:])\n",
        "\n",
        "    x = LSTM(28, return_sequences=True)(inputs)\n",
        "\n",
        "    predictions = TimeDistributed(Dense(class_vocab_size, activation='softmax'))(x)\n",
        "\n",
        "    model = Model(inputs=inputs, outputs=predictions)\n",
        "    model.compile(loss=sparse_categorical_crossentropy,\n",
        "                  optimizer=Adam(learning_rate),\n",
        "                  metrics=['accuracy'])\n",
        "    return model"
      ]
    },
    {
      "cell_type": "code",
      "source": [],
      "metadata": {
        "id": "Ab1PS3FazcBN"
      },
      "execution_count": null,
      "outputs": []
    },
    {
      "cell_type": "code",
      "execution_count": null,
      "metadata": {
        "colab": {
          "base_uri": "https://localhost:8080/"
        },
        "id": "Vpw8GAlDdyWZ",
        "outputId": "0a5d8cd5-3b43-490e-9c86-3bd80d3a728f"
      },
      "outputs": [
        {
          "output_type": "stream",
          "name": "stdout",
          "text": [
            "Data Preprocessed\n"
          ]
        }
      ],
      "source": [
        "preproc_sentence, preproc_class, sentence_tokenizer, class_tokenizer =\\\n",
        "    preprocess_s_c(train_sentences, train_classes)\n",
        "print('Data Preprocessed')"
      ]
    },
    {
      "cell_type": "code",
      "execution_count": null,
      "metadata": {
        "colab": {
          "base_uri": "https://localhost:8080/"
        },
        "id": "Xtwk00F9TnGG",
        "outputId": "33eecec2-09a1-4f33-f788-7ef22a9369fa"
      },
      "outputs": [
        {
          "output_type": "execute_result",
          "data": {
            "text/plain": [
              "94"
            ]
          },
          "metadata": {},
          "execution_count": 101
        }
      ],
      "source": [
        "len(class_tokenizer.word_index)"
      ]
    },
    {
      "cell_type": "code",
      "execution_count": null,
      "metadata": {
        "colab": {
          "base_uri": "https://localhost:8080/"
        },
        "id": "L_xho6Hh9lVR",
        "outputId": "d65df3a1-73b3-46d5-f98b-714ac0cf8048"
      },
      "outputs": [
        {
          "output_type": "execute_result",
          "data": {
            "text/plain": [
              "(3456, 28, 1)"
            ]
          },
          "metadata": {},
          "execution_count": 102
        }
      ],
      "source": [
        "preproc_class.shape"
      ]
    },
    {
      "cell_type": "code",
      "execution_count": null,
      "metadata": {
        "id": "rL8ldXFw5vJa"
      },
      "outputs": [],
      "source": [
        "# Reshape the input to work with a basic RNN\n",
        "tmp_x = pad(preproc_sentence, preproc_class.shape[1])\n",
        "tmp_x = tmp_x.reshape((-1, preproc_class.shape[-2], 1))"
      ]
    },
    {
      "cell_type": "code",
      "execution_count": null,
      "metadata": {
        "id": "3bb7jMcSr3ip"
      },
      "outputs": [],
      "source": []
    },
    {
      "cell_type": "code",
      "execution_count": null,
      "metadata": {
        "colab": {
          "base_uri": "https://localhost:8080/"
        },
        "id": "Qacomok9eX_-",
        "outputId": "92ea30ea-6a77-46f3-8e7d-63267c4caf1d"
      },
      "outputs": [
        {
          "output_type": "stream",
          "name": "stdout",
          "text": [
            "Model: \"model\"\n",
            "_________________________________________________________________\n",
            " Layer (type)                Output Shape              Param #   \n",
            "=================================================================\n",
            " input_1 (InputLayer)        [(None, 28, 1)]           0         \n",
            "                                                                 \n",
            " lstm (LSTM)                 (None, 28, 28)            3360      \n",
            "                                                                 \n",
            " time_distributed (TimeDistr  (None, 28, 95)           2755      \n",
            " ibuted)                                                         \n",
            "                                                                 \n",
            "=================================================================\n",
            "Total params: 6,115\n",
            "Trainable params: 6,115\n",
            "Non-trainable params: 0\n",
            "_________________________________________________________________\n"
          ]
        }
      ],
      "source": [
        "simple_rnn_model = simple_model(\n",
        "    tmp_x.shape,\n",
        "    len(class_tokenizer.word_index)+1,\n",
        "    preproc_class.shape[1]) # Add 1 because padding introduces 0\n",
        "simple_rnn_model.summary()\n",
        "\n"
      ]
    },
    {
      "cell_type": "code",
      "execution_count": null,
      "metadata": {
        "colab": {
          "base_uri": "https://localhost:8080/"
        },
        "id": "i3wWeJmAr6gX",
        "outputId": "ada8e6ea-9559-45c1-dfbf-49b6bffee5f6"
      },
      "outputs": [
        {
          "output_type": "stream",
          "name": "stdout",
          "text": [
            "Epoch 1/30\n",
            "605/605 [==============================] - 12s 15ms/step - loss: 0.5485 - accuracy: 0.9036 - val_loss: 0.4900 - val_accuracy: 0.9046\n",
            "Epoch 2/30\n",
            "605/605 [==============================] - 11s 17ms/step - loss: 0.4804 - accuracy: 0.9069 - val_loss: 0.4932 - val_accuracy: 0.9058\n",
            "Epoch 3/30\n",
            "605/605 [==============================] - 10s 17ms/step - loss: 0.4756 - accuracy: 0.9078 - val_loss: 0.4821 - val_accuracy: 0.9071\n",
            "Epoch 4/30\n",
            "605/605 [==============================] - 9s 14ms/step - loss: 0.4720 - accuracy: 0.9083 - val_loss: 0.4751 - val_accuracy: 0.9074\n",
            "Epoch 5/30\n",
            "605/605 [==============================] - 11s 18ms/step - loss: 0.4711 - accuracy: 0.9081 - val_loss: 0.4852 - val_accuracy: 0.9062\n",
            "Epoch 6/30\n",
            "605/605 [==============================] - 9s 15ms/step - loss: 0.4704 - accuracy: 0.9075 - val_loss: 0.4791 - val_accuracy: 0.9063\n",
            "Epoch 7/30\n",
            "605/605 [==============================] - 10s 17ms/step - loss: 0.4666 - accuracy: 0.9085 - val_loss: 0.4797 - val_accuracy: 0.9076\n",
            "Epoch 8/30\n",
            "605/605 [==============================] - 10s 17ms/step - loss: 0.4678 - accuracy: 0.9086 - val_loss: 0.4793 - val_accuracy: 0.9073\n",
            "Epoch 9/30\n",
            "605/605 [==============================] - 12s 20ms/step - loss: 0.4651 - accuracy: 0.9087 - val_loss: 0.4691 - val_accuracy: 0.9076\n",
            "Epoch 10/30\n",
            "605/605 [==============================] - 10s 17ms/step - loss: 0.4677 - accuracy: 0.9080 - val_loss: 0.4770 - val_accuracy: 0.9063\n",
            "Epoch 11/30\n",
            "605/605 [==============================] - 11s 18ms/step - loss: 0.4692 - accuracy: 0.9077 - val_loss: 0.4748 - val_accuracy: 0.9077\n",
            "Epoch 12/30\n",
            "605/605 [==============================] - 9s 14ms/step - loss: 0.4647 - accuracy: 0.9082 - val_loss: 0.4714 - val_accuracy: 0.9072\n",
            "Epoch 13/30\n",
            "605/605 [==============================] - 11s 18ms/step - loss: 0.4627 - accuracy: 0.9083 - val_loss: 0.4788 - val_accuracy: 0.9058\n",
            "Epoch 14/30\n",
            "605/605 [==============================] - 9s 15ms/step - loss: 0.4653 - accuracy: 0.9079 - val_loss: 0.4731 - val_accuracy: 0.9075\n",
            "Epoch 15/30\n",
            "605/605 [==============================] - 10s 17ms/step - loss: 0.4607 - accuracy: 0.9085 - val_loss: 0.4768 - val_accuracy: 0.9072\n",
            "Epoch 16/30\n",
            "605/605 [==============================] - 11s 18ms/step - loss: 0.4579 - accuracy: 0.9088 - val_loss: 0.4735 - val_accuracy: 0.9077\n",
            "Epoch 17/30\n",
            "605/605 [==============================] - 9s 14ms/step - loss: 0.4610 - accuracy: 0.9084 - val_loss: 0.4703 - val_accuracy: 0.9077\n",
            "Epoch 18/30\n",
            "605/605 [==============================] - 11s 18ms/step - loss: 0.4622 - accuracy: 0.9077 - val_loss: 0.4745 - val_accuracy: 0.9063\n",
            "Epoch 19/30\n",
            "605/605 [==============================] - 9s 15ms/step - loss: 0.4635 - accuracy: 0.9074 - val_loss: 0.4775 - val_accuracy: 0.9071\n",
            "Epoch 20/30\n",
            "605/605 [==============================] - 10s 17ms/step - loss: 0.4567 - accuracy: 0.9084 - val_loss: 0.4716 - val_accuracy: 0.9074\n",
            "Epoch 21/30\n",
            "605/605 [==============================] - 10s 17ms/step - loss: 0.4615 - accuracy: 0.9077 - val_loss: 0.4729 - val_accuracy: 0.9072\n",
            "Epoch 22/30\n",
            "605/605 [==============================] - 9s 15ms/step - loss: 0.4582 - accuracy: 0.9084 - val_loss: 0.4733 - val_accuracy: 0.9078\n",
            "Epoch 23/30\n",
            "605/605 [==============================] - 11s 18ms/step - loss: 0.4572 - accuracy: 0.9087 - val_loss: 0.4786 - val_accuracy: 0.9078\n",
            "Epoch 24/30\n",
            "605/605 [==============================] - 9s 15ms/step - loss: 0.4557 - accuracy: 0.9088 - val_loss: 0.4760 - val_accuracy: 0.9077\n",
            "Epoch 25/30\n",
            "605/605 [==============================] - 10s 17ms/step - loss: 0.4578 - accuracy: 0.9080 - val_loss: 0.4910 - val_accuracy: 0.9025\n",
            "Epoch 26/30\n",
            "605/605 [==============================] - 10s 17ms/step - loss: 0.4602 - accuracy: 0.9081 - val_loss: 0.4757 - val_accuracy: 0.9076\n",
            "Epoch 27/30\n",
            "605/605 [==============================] - 9s 15ms/step - loss: 0.4580 - accuracy: 0.9086 - val_loss: 0.4752 - val_accuracy: 0.9077\n",
            "Epoch 28/30\n",
            "605/605 [==============================] - 11s 17ms/step - loss: 0.4557 - accuracy: 0.9086 - val_loss: 0.4775 - val_accuracy: 0.9067\n",
            "Epoch 29/30\n",
            "605/605 [==============================] - 9s 15ms/step - loss: 0.4548 - accuracy: 0.9089 - val_loss: 0.4745 - val_accuracy: 0.9078\n",
            "Epoch 30/30\n",
            "605/605 [==============================] - 10s 17ms/step - loss: 0.4521 - accuracy: 0.9088 - val_loss: 0.4775 - val_accuracy: 0.9078\n"
          ]
        },
        {
          "output_type": "execute_result",
          "data": {
            "text/plain": [
              "<keras.callbacks.History at 0x7fcb16042700>"
            ]
          },
          "metadata": {},
          "execution_count": 105
        }
      ],
      "source": [
        "simple_rnn_model.fit(tmp_x, preproc_class, batch_size=4, epochs=30, validation_split=0.3)\n"
      ]
    },
    {
      "cell_type": "code",
      "execution_count": null,
      "metadata": {
        "id": "QBSrBL546Pma"
      },
      "outputs": [],
      "source": []
    },
    {
      "cell_type": "code",
      "execution_count": null,
      "metadata": {
        "id": "eawINrg_n_Jo"
      },
      "outputs": [],
      "source": [
        "import matplotlib.pyplot as plt\n",
        "def plot_graphs(history, string):\n",
        "    plt.plot(history.history[string])\n",
        "    plt.plot(history.history['val_'+string])\n",
        "    plt.xlabel(\"Epochs\")\n",
        "    plt.ylabel(string)\n",
        "    plt.legend([string, 'val_'+string])\n",
        "    plt.show()\n"
      ]
    },
    {
      "cell_type": "code",
      "execution_count": null,
      "metadata": {
        "colab": {
          "base_uri": "https://localhost:8080/",
          "height": 541
        },
        "id": "k0In3YYz6ozW",
        "outputId": "61945297-997d-40b6-d6c9-b6b0fac55dbc"
      },
      "outputs": [
        {
          "output_type": "display_data",
          "data": {
            "text/plain": [
              "<Figure size 432x288 with 1 Axes>"
            ],
            "image/png": "[encoded data removed]"
          },
          "metadata": {
            "needs_background": "light"
          }
        },
        {
          "output_type": "display_data",
          "data": {
            "text/plain": [
              "<Figure size 432x288 with 1 Axes>"
            ],
            "image/png": "[encoded data removed]"
          },
          "metadata": {
            "needs_background": "light"
          }
        }
      ],
      "source": [
        "    plot_graphs(simple_rnn_model.history, 'accuracy')\n",
        "    plot_graphs(simple_rnn_model.history, 'loss')"
      ]
    },
    {
      "cell_type": "code",
      "execution_count": null,
      "metadata": {
        "colab": {
          "base_uri": "https://localhost:8080/"
        },
        "id": "8eecD74c-VsP",
        "outputId": "66898ee3-85e2-4c8b-c1ac-6bcb1d18905c"
      },
      "outputs": [
        {
          "data": {
            "text/plain": [
              "(28, 1)"
            ]
          },
          "execution_count": 26,
          "metadata": {},
          "output_type": "execute_result"
        }
      ],
      "source": [
        "tmp_x[:1][0].shape"
      ]
    },
    {
      "cell_type": "code",
      "execution_count": null,
      "metadata": {
        "colab": {
          "base_uri": "https://localhost:8080/"
        },
        "id": "Orp1Nmrn-qKR",
        "outputId": "006e7d40-afe5-4dbe-cb17-32798b48f20b"
      },
      "outputs": [
        {
          "output_type": "stream",
          "name": "stderr",
          "text": [
            "WARNING:tensorflow:Model was constructed with shape (None, 28, 1) for input KerasTensor(type_spec=TensorSpec(shape=(None, 28, 1), dtype=tf.float32, name='input_1'), name='input_1', description=\"created by layer 'input_1'\"), but it was called on an input with incompatible shape (None, 1, 1).\n"
          ]
        },
        {
          "output_type": "stream",
          "name": "stdout",
          "text": [
            "1/1 [==============================] - 0s 375ms/step\n"
          ]
        },
        {
          "output_type": "execute_result",
          "data": {
            "text/plain": [
              "(28, 1, 98)"
            ]
          },
          "metadata": {},
          "execution_count": 135
        }
      ],
      "source": [
        "simple_rnn_model.predict(tmp_x[:1][0]).shape"
      ]
    },
    {
      "cell_type": "code",
      "execution_count": null,
      "metadata": {
        "colab": {
          "base_uri": "https://localhost:8080/"
        },
        "id": "n_fsCTGrAJKe",
        "outputId": "2e92c6d5-59cb-4d46-9298-a173cd7493e5"
      },
      "outputs": [
        {
          "output_type": "stream",
          "name": "stdout",
          "text": [
            "Data Preprocessed\n"
          ]
        }
      ],
      "source": [
        "preproc_sentence_test, preproc_class_test, sentence_tokenizer_test, class_tokenizer_test =\\\n",
        "    preprocess_s_c(test_sentences, test_classes)\n",
        "print('Data Preprocessed')"
      ]
    },
    {
      "cell_type": "code",
      "execution_count": null,
      "metadata": {
        "id": "YGShU5XtA7GE"
      },
      "outputs": [],
      "source": [
        "# Reshape the input to work with a basic RNN\n",
        "tmp_x_test = pad(preproc_sentence_test, preproc_class_test.shape[1])\n",
        "tmp_x_test = tmp_x_test.reshape((-1, preproc_class_test.shape[-2], 1))"
      ]
    },
    {
      "cell_type": "code",
      "execution_count": null,
      "metadata": {
        "id": "SVmN_EjniDSI"
      },
      "outputs": [],
      "source": []
    },
    {
      "cell_type": "code",
      "execution_count": null,
      "metadata": {
        "id": "7nIWK-83BrpE"
      },
      "outputs": [],
      "source": [
        "tmp_x_test = tmp_x_test.reshape((-1, preproc_class.shape[-2], 1))"
      ]
    },
    {
      "cell_type": "code",
      "execution_count": null,
      "metadata": {
        "colab": {
          "base_uri": "https://localhost:8080/"
        },
        "id": "uwnWMjCBBMZD",
        "outputId": "f55d8382-3b0e-4717-a738-64e6a04fdfd7"
      },
      "outputs": [
        {
          "data": {
            "text/plain": [
              "(907, 28, 1)"
            ]
          },
          "execution_count": 64,
          "metadata": {},
          "output_type": "execute_result"
        }
      ],
      "source": [
        "preproc_class_test.shape"
      ]
    },
    {
      "cell_type": "code",
      "execution_count": null,
      "metadata": {
        "id": "oHpF_qOCDlYH"
      },
      "outputs": [],
      "source": []
    },
    {
      "cell_type": "code",
      "execution_count": null,
      "metadata": {
        "colab": {
          "base_uri": "https://localhost:8080/"
        },
        "id": "NhgUA_hJD0U6",
        "outputId": "03dce7da-bb4c-4fa2-c82f-3c490e7b9349"
      },
      "outputs": [
        {
          "data": {
            "text/plain": [
              "['ميتين', 'و', 'خمسين']"
            ]
          },
          "execution_count": 70,
          "metadata": {},
          "output_type": "execute_result"
        }
      ],
      "source": [
        "test_sentences[1]"
      ]
    },
    {
      "cell_type": "code",
      "execution_count": null,
      "metadata": {
        "colab": {
          "base_uri": "https://localhost:8080/"
        },
        "id": "SxFCFGT2AVrj",
        "outputId": "820b4607-d662-4b51-8ff7-c990a1ce9657"
      },
      "outputs": [
        {
          "output_type": "stream",
          "name": "stdout",
          "text": [
            "29/29 [==============================] - 0s 3ms/step - loss: 0.8347 - accuracy: 0.9089\n"
          ]
        },
        {
          "output_type": "execute_result",
          "data": {
            "text/plain": [
              "[0.8347307443618774, 0.908883273601532]"
            ]
          },
          "metadata": {},
          "execution_count": 139
        }
      ],
      "source": [
        "simple_rnn_model.evaluate(tmp_x_test,preproc_class_test)"
      ]
    },
    {
      "cell_type": "code",
      "execution_count": null,
      "metadata": {
        "colab": {
          "base_uri": "https://localhost:8080/"
        },
        "id": "n1E0ZgUSDB1j",
        "outputId": "e0eaae7b-eae8-48cc-cbde-63aebe5b5f8e"
      },
      "outputs": [
        {
          "output_type": "stream",
          "name": "stdout",
          "text": [
            "1/1 [==============================] - 0s 329ms/step\n"
          ]
        },
        {
          "output_type": "execute_result",
          "data": {
            "text/plain": [
              "(28, 98)"
            ]
          },
          "metadata": {},
          "execution_count": 140
        }
      ],
      "source": [
        "simple_rnn_model.predict(tmp_x_test[:1])[0].shape"
      ]
    },
    {
      "cell_type": "code",
      "execution_count": null,
      "metadata": {
        "colab": {
          "base_uri": "https://localhost:8080/"
        },
        "id": "o0raNFUme3Xa",
        "outputId": "a2c90e5e-1fae-4a5d-bcaa-50d55690458f"
      },
      "outputs": [
        {
          "output_type": "stream",
          "name": "stdout",
          "text": [
            "1/1 [==============================] - 0s 16ms/step\n",
            "logist shape:  (28, 98)\n",
            "o i-dep_hour_req b-clarification_req o o b-train b-departure_cpt                     \n",
            "[['مع', 'وقتاه', 'بالله', 'إي', 'إي', 'تران', 'خروج']]\n",
            "[['O', 'B-Dep_Hour_Req', 'B-Politenesse', 'O', 'O', 'B-Train', 'B-Departure_Cpt']]\n"
          ]
        }
      ],
      "source": [
        "# Print prediction(s)\n",
        "print(logits_to_text(simple_rnn_model.predict(tmp_x[:1])[0], class_tokenizer))\n",
        "print(train_sentences[:1])\n",
        "print(train_classes[:1])"
      ]
    },
    {
      "cell_type": "code",
      "execution_count": null,
      "metadata": {
        "id": "e8d_wOI3f2Xt"
      },
      "outputs": [],
      "source": []
    },
    {
      "cell_type": "markdown",
      "metadata": {
        "id": "s10v9NcDLe-Y"
      },
      "source": [
        "##RNN embeding"
      ]
    },
    {
      "cell_type": "code",
      "execution_count": null,
      "metadata": {
        "id": "Kf8TmA0YLkIu"
      },
      "outputs": [],
      "source": [
        "def embed_model(input_shape, output_sequence_length, sentence_vocab_size, class_vocab_size):\n",
        "    \"\"\"\n",
        "    Build and train a RNN model using word embedding on x and y\n",
        "    :param input_shape: Tuple of input shape\n",
        "    :param output_sequence_length: Length of output sequence\n",
        "    :param english_vocab_size: Number of unique English words in the dataset\n",
        "    :param french_vocab_size: Number of unique French words in the dataset\n",
        "    :return: Keras model built, but not trained\n",
        "    \"\"\"\n",
        "    learning_rate = 1e-2\n",
        "    #Config Model\n",
        "    inputs = Input(shape=input_shape[1:])\n",
        "    embedding_layer = Embedding(input_dim=sentence_vocab_size,input_length=input_shape[1],output_dim=output_sequence_length,)(inputs)\n",
        "     \n",
        "    hidden_layer = GRU(output_sequence_length, return_sequences=True)(embedding_layer)\n",
        "    outputs = TimeDistributed(Dense(class_vocab_size, activation='softmax'))(hidden_layer)\n",
        "    \n",
        "    #Create Model from parameters defined above\n",
        "    model = Model(inputs=inputs, outputs=outputs)\n",
        "    model.compile(loss=sparse_categorical_crossentropy,\n",
        "                  optimizer=Adam(learning_rate),\n",
        "                  metrics=['accuracy'])    \n",
        "    return model"
      ]
    },
    {
      "cell_type": "code",
      "execution_count": null,
      "metadata": {
        "id": "cYImcW_xXFGf"
      },
      "outputs": [],
      "source": []
    },
    {
      "cell_type": "code",
      "execution_count": null,
      "metadata": {
        "colab": {
          "base_uri": "https://localhost:8080/"
        },
        "id": "8dza3vBxdulQ",
        "outputId": "c3453b0d-efca-4ba7-9b05-dee574fb378e"
      },
      "outputs": [
        {
          "output_type": "stream",
          "name": "stdout",
          "text": [
            "Data Preprocessed\n"
          ]
        }
      ],
      "source": [
        "preproc_sentence, preproc_class, sentence_tokenizer, class_tokenizer =\\\n",
        "    preprocess_s_c(train_sentences, train_classes)\n",
        "print('Data Preprocessed')\n",
        "# Reshape the input to work with a basic RNN\n",
        "tmp_x = pad(preproc_sentence, preproc_class.shape[1])\n",
        "tmp_x = tmp_x.reshape((-1, preproc_class.shape[-2], 1))"
      ]
    },
    {
      "cell_type": "code",
      "source": [
        "tmp_x.shape[:2]"
      ],
      "metadata": {
        "colab": {
          "base_uri": "https://localhost:8080/"
        },
        "id": "Vy_niK91z4XV",
        "outputId": "8b5db1f6-1955-4892-c049-dd9a04c889ad"
      },
      "execution_count": null,
      "outputs": [
        {
          "output_type": "execute_result",
          "data": {
            "text/plain": [
              "(5779, 28)"
            ]
          },
          "metadata": {},
          "execution_count": 145
        }
      ]
    },
    {
      "cell_type": "code",
      "execution_count": null,
      "metadata": {
        "id": "ZOV9mQG8XkU2"
      },
      "outputs": [],
      "source": [
        "tmp_x=tmp_x.reshape(tmp_x.shape[:2])"
      ]
    },
    {
      "cell_type": "code",
      "execution_count": null,
      "metadata": {
        "colab": {
          "base_uri": "https://localhost:8080/"
        },
        "id": "vBZWmewOVpal",
        "outputId": "faba1753-3be5-4bc2-ba21-e2f101cdd5a7"
      },
      "outputs": [
        {
          "output_type": "stream",
          "name": "stdout",
          "text": [
            "Model: \"model_1\"\n",
            "_________________________________________________________________\n",
            " Layer (type)                Output Shape              Param #   \n",
            "=================================================================\n",
            " input_2 (InputLayer)        [(None, 28)]              0         \n",
            "                                                                 \n",
            " embedding (Embedding)       (None, 28, 28)            43904     \n",
            "                                                                 \n",
            " gru (GRU)                   (None, 28, 28)            4872      \n",
            "                                                                 \n",
            " time_distributed_1 (TimeDis  (None, 28, 98)           2842      \n",
            " tributed)                                                       \n",
            "                                                                 \n",
            "=================================================================\n",
            "Total params: 51,618\n",
            "Trainable params: 51,618\n",
            "Non-trainable params: 0\n",
            "_________________________________________________________________\n"
          ]
        }
      ],
      "source": [
        "embed_rnn_model = embed_model(\n",
        "        tmp_x.shape,\n",
        "        preproc_class.shape[1],\n",
        "        len(sentence_tokenizer.word_index)+1,\n",
        "        len(class_tokenizer.word_index)+1)\n",
        "embed_rnn_model.summary()\n"
      ]
    },
    {
      "cell_type": "code",
      "execution_count": null,
      "metadata": {
        "id": "6Lxye3VEgjyG"
      },
      "outputs": [],
      "source": [
        "preproc_class=preproc_class.reshape(tmp_x.shape[:2])"
      ]
    },
    {
      "cell_type": "code",
      "execution_count": null,
      "metadata": {
        "colab": {
          "base_uri": "https://localhost:8080/"
        },
        "id": "z7_PfxR_grpY",
        "outputId": "dc6670d0-0c50-45a8-ea90-95234b7b0d3e"
      },
      "outputs": [
        {
          "data": {
            "text/plain": [
              "(4141, 28)"
            ]
          },
          "execution_count": 125,
          "metadata": {},
          "output_type": "execute_result"
        }
      ],
      "source": []
    },
    {
      "cell_type": "code",
      "execution_count": null,
      "metadata": {
        "colab": {
          "base_uri": "https://localhost:8080/"
        },
        "id": "3bKQGN_uVxnu",
        "outputId": "10f5bc08-0db2-49db-d2e2-8b4be808f806"
      },
      "outputs": [
        {
          "output_type": "stream",
          "name": "stdout",
          "text": [
            "Epoch 1/30\n",
            "578/578 [==============================] - 7s 9ms/step - loss: 0.3316 - accuracy: 0.9354 - val_loss: 0.2825 - val_accuracy: 0.9358\n",
            "Epoch 2/30\n",
            "578/578 [==============================] - 3s 6ms/step - loss: 0.0997 - accuracy: 0.9770 - val_loss: 0.2307 - val_accuracy: 0.9483\n",
            "Epoch 3/30\n",
            "578/578 [==============================] - 4s 7ms/step - loss: 0.0697 - accuracy: 0.9820 - val_loss: 0.2330 - val_accuracy: 0.9508\n",
            "Epoch 4/30\n",
            "578/578 [==============================] - 5s 9ms/step - loss: 0.0582 - accuracy: 0.9845 - val_loss: 0.2470 - val_accuracy: 0.9506\n",
            "Epoch 5/30\n",
            "578/578 [==============================] - 4s 7ms/step - loss: 0.0525 - accuracy: 0.9854 - val_loss: 0.2557 - val_accuracy: 0.9511\n",
            "Epoch 6/30\n",
            "578/578 [==============================] - 4s 6ms/step - loss: 0.0489 - accuracy: 0.9862 - val_loss: 0.2759 - val_accuracy: 0.9509\n",
            "Epoch 7/30\n",
            "578/578 [==============================] - 3s 6ms/step - loss: 0.0445 - accuracy: 0.9871 - val_loss: 0.2710 - val_accuracy: 0.9520\n",
            "Epoch 8/30\n",
            "578/578 [==============================] - 4s 8ms/step - loss: 0.0431 - accuracy: 0.9874 - val_loss: 0.2649 - val_accuracy: 0.9551\n",
            "Epoch 9/30\n",
            "578/578 [==============================] - 4s 6ms/step - loss: 0.0410 - accuracy: 0.9878 - val_loss: 0.2929 - val_accuracy: 0.9517\n",
            "Epoch 10/30\n",
            "578/578 [==============================] - 3s 6ms/step - loss: 0.0398 - accuracy: 0.9883 - val_loss: 0.2953 - val_accuracy: 0.9514\n",
            "Epoch 11/30\n",
            "578/578 [==============================] - 3s 6ms/step - loss: 0.0381 - accuracy: 0.9887 - val_loss: 0.3103 - val_accuracy: 0.9512\n",
            "Epoch 12/30\n",
            "578/578 [==============================] - 5s 8ms/step - loss: 0.0377 - accuracy: 0.9887 - val_loss: 0.2964 - val_accuracy: 0.9515\n",
            "Epoch 13/30\n",
            "578/578 [==============================] - 4s 7ms/step - loss: 0.0374 - accuracy: 0.9887 - val_loss: 0.3081 - val_accuracy: 0.9514\n",
            "Epoch 14/30\n",
            "578/578 [==============================] - 4s 6ms/step - loss: 0.0360 - accuracy: 0.9892 - val_loss: 0.3188 - val_accuracy: 0.9514\n",
            "Epoch 15/30\n",
            "578/578 [==============================] - 4s 6ms/step - loss: 0.0352 - accuracy: 0.9892 - val_loss: 0.3233 - val_accuracy: 0.9515\n",
            "Epoch 16/30\n",
            "578/578 [==============================] - 5s 8ms/step - loss: 0.0356 - accuracy: 0.9891 - val_loss: 0.3206 - val_accuracy: 0.9516\n",
            "Epoch 17/30\n",
            "578/578 [==============================] - 3s 6ms/step - loss: 0.0351 - accuracy: 0.9894 - val_loss: 0.3242 - val_accuracy: 0.9513\n",
            "Epoch 18/30\n",
            "578/578 [==============================] - 3s 6ms/step - loss: 0.0348 - accuracy: 0.9893 - val_loss: 0.3339 - val_accuracy: 0.9533\n",
            "Epoch 19/30\n",
            "578/578 [==============================] - 4s 7ms/step - loss: 0.0343 - accuracy: 0.9895 - val_loss: 0.3238 - val_accuracy: 0.9520\n",
            "Epoch 20/30\n",
            "578/578 [==============================] - 5s 8ms/step - loss: 0.0338 - accuracy: 0.9895 - val_loss: 0.3500 - val_accuracy: 0.9509\n",
            "Epoch 21/30\n",
            "578/578 [==============================] - 3s 6ms/step - loss: 0.0341 - accuracy: 0.9897 - val_loss: 0.3482 - val_accuracy: 0.9506\n",
            "Epoch 22/30\n",
            "578/578 [==============================] - 3s 6ms/step - loss: 0.0333 - accuracy: 0.9899 - val_loss: 0.3610 - val_accuracy: 0.9508\n",
            "Epoch 23/30\n",
            "578/578 [==============================] - 4s 7ms/step - loss: 0.0327 - accuracy: 0.9898 - val_loss: 0.3677 - val_accuracy: 0.9505\n",
            "Epoch 24/30\n",
            "578/578 [==============================] - 4s 7ms/step - loss: 0.0321 - accuracy: 0.9903 - val_loss: 0.3539 - val_accuracy: 0.9517\n",
            "Epoch 25/30\n",
            "578/578 [==============================] - 3s 6ms/step - loss: 0.0323 - accuracy: 0.9901 - val_loss: 0.3543 - val_accuracy: 0.9517\n",
            "Epoch 26/30\n",
            "578/578 [==============================] - 4s 6ms/step - loss: 0.0327 - accuracy: 0.9898 - val_loss: 0.3825 - val_accuracy: 0.9508\n",
            "Epoch 27/30\n",
            "578/578 [==============================] - 4s 7ms/step - loss: 0.0332 - accuracy: 0.9898 - val_loss: 0.3821 - val_accuracy: 0.9496\n",
            "Epoch 28/30\n",
            "578/578 [==============================] - 4s 7ms/step - loss: 0.0322 - accuracy: 0.9902 - val_loss: 0.3563 - val_accuracy: 0.9512\n",
            "Epoch 29/30\n",
            "578/578 [==============================] - 4s 6ms/step - loss: 0.0319 - accuracy: 0.9902 - val_loss: 0.3811 - val_accuracy: 0.9503\n",
            "Epoch 30/30\n",
            "578/578 [==============================] - 4s 6ms/step - loss: 0.0313 - accuracy: 0.9903 - val_loss: 0.3751 - val_accuracy: 0.9510\n"
          ]
        },
        {
          "output_type": "execute_result",
          "data": {
            "text/plain": [
              "<keras.callbacks.History at 0x7f53ee11bdf0>"
            ]
          },
          "metadata": {},
          "execution_count": 149
        }
      ],
      "source": [
        "embed_rnn_model.fit(tmp_x, preproc_class, batch_size=8, epochs=30, validation_split=0.2)"
      ]
    },
    {
      "cell_type": "code",
      "execution_count": null,
      "metadata": {
        "colab": {
          "base_uri": "https://localhost:8080/",
          "height": 545
        },
        "id": "Z9skkyygvqSY",
        "outputId": "fc239efa-b844-4f7c-f1e2-12046acb10f4"
      },
      "outputs": [
        {
          "output_type": "display_data",
          "data": {
            "text/plain": [
              "<Figure size 432x288 with 1 Axes>"
            ],
            "image/png": "[encoded data removed]"
          },
          "metadata": {
            "needs_background": "light"
          }
        },
        {
          "output_type": "display_data",
          "data": {
            "text/plain": [
              "<Figure size 432x288 with 1 Axes>"
            ],
            "image/png": "[encoded data removed]"
          },
          "metadata": {
            "needs_background": "light"
          }
        }
      ],
      "source": [
        "plot_graphs(embed_rnn_model.history, 'accuracy')\n",
        "plot_graphs(embed_rnn_model.history, 'loss')"
      ]
    },
    {
      "cell_type": "code",
      "execution_count": null,
      "metadata": {
        "colab": {
          "base_uri": "https://localhost:8080/"
        },
        "id": "OV5cLf68h9gE",
        "outputId": "24a8aaaf-7485-4f08-dea8-1da9108aba98"
      },
      "outputs": [
        {
          "output_type": "stream",
          "name": "stdout",
          "text": [
            "Data Preprocessed\n"
          ]
        }
      ],
      "source": [
        "preproc_sentence_test, preproc_class_test, sentence_tokenizer_test, class_tokenizer_test =\\\n",
        "    preprocess_s_c(test_sentences, test_classes)\n",
        "print('Data Preprocessed')\n",
        "# Reshape the input to work with a basic RNN\n",
        "tmp_x_test = pad(preproc_sentence_test, preproc_class_test.shape[1])\n",
        "tmp_x_test = tmp_x_test.reshape((-1, preproc_class_test.shape[-2], 1))\n"
      ]
    },
    {
      "cell_type": "code",
      "execution_count": null,
      "metadata": {
        "id": "v-OCS3zKiTYf"
      },
      "outputs": [],
      "source": [
        "preproc_class_test=preproc_class_test.reshape(preproc_class_test.shape[:2])\n"
      ]
    },
    {
      "cell_type": "code",
      "execution_count": null,
      "metadata": {
        "id": "j7gPbr5QipYm"
      },
      "outputs": [],
      "source": [
        "tmp_x_test=tmp_x_test.reshape(tmp_x_test.shape[:2])"
      ]
    },
    {
      "cell_type": "code",
      "execution_count": null,
      "metadata": {
        "colab": {
          "base_uri": "https://localhost:8080/"
        },
        "id": "Ny0zBwsxiQgJ",
        "outputId": "963e6461-8e08-4a12-da58-b9018e6c813c"
      },
      "outputs": [
        {
          "output_type": "stream",
          "name": "stdout",
          "text": [
            "29/29 [==============================] - 0s 4ms/step - loss: 1.2622 - accuracy: 0.8994\n"
          ]
        },
        {
          "output_type": "execute_result",
          "data": {
            "text/plain": [
              "[1.2621570825576782, 0.899393618106842]"
            ]
          },
          "metadata": {},
          "execution_count": 154
        }
      ],
      "source": [
        "embed_rnn_model.evaluate(tmp_x_test,preproc_class_test)"
      ]
    },
    {
      "cell_type": "markdown",
      "metadata": {
        "id": "6_5dBTd9C0JE"
      },
      "source": [
        "## BIRNN\n",
        "Une restriction d'un RNN est qu'il ne peut pas voir l'entrée future, seulement le passé. C'est là qu'interviennent les réseaux de neurones récurrents bidirectionnels. Ils sont capables de voir les données futures."
      ]
    },
    {
      "cell_type": "code",
      "execution_count": null,
      "metadata": {
        "id": "muEeYqPGTg8X"
      },
      "outputs": [],
      "source": [
        "from keras.layers import Bidirectional"
      ]
    },
    {
      "cell_type": "code",
      "execution_count": null,
      "metadata": {
        "id": "nOXmXsBSC3DO"
      },
      "outputs": [],
      "source": [
        "from keras.layers import Bidirectional\n",
        "\n",
        "def bd_model(input_shape, class_vocab_size):\n",
        "    \"\"\"Build and train a bidirectional RNN model on x and y.   \n",
        "    Parameters:\n",
        "    input_shape: Tuple of input shape\n",
        "    output_sequence_length: Length of output sequence\n",
        "\n",
        "    Returns: \n",
        "    Keras model built, but not trained\n",
        "    \"\"\"\n",
        "    learning_rate = 0.01\n",
        "    inputs = Input(shape=input_shape[1:])\n",
        "\n",
        "    x = Bidirectional(GRU(512, return_sequences=True))(inputs)\n",
        "    predictions = TimeDistributed(Dense(class_vocab_size, activation='softmax'))(x)\n",
        "    model = Model(inputs=inputs, outputs=predictions)\n",
        "    model.compile(loss=sparse_categorical_crossentropy,\n",
        "                  optimizer=Adam(learning_rate),\n",
        "                  metrics=['accuracy'])\n",
        "    return model"
      ]
    },
    {
      "cell_type": "code",
      "execution_count": null,
      "metadata": {
        "colab": {
          "base_uri": "https://localhost:8080/"
        },
        "id": "zGZm8m59ozAq",
        "outputId": "3ea72214-2be1-4b28-cd82-31bcc023ed16"
      },
      "outputs": [
        {
          "output_type": "stream",
          "name": "stdout",
          "text": [
            "Data Preprocessed\n"
          ]
        }
      ],
      "source": [
        "preproc_sentence, preproc_class, sentence_tokenizer, class_tokenizer =\\\n",
        "    preprocess_s_c(train_sentences, train_classes)\n",
        "print('Data Preprocessed')\n",
        "# Reshape the input to work with a basic RNN\n",
        "tmp_x = pad(preproc_sentence, preproc_class.shape[1])\n",
        "tmp_x = tmp_x.reshape((-1, preproc_class.shape[-2], 1))"
      ]
    },
    {
      "cell_type": "code",
      "execution_count": null,
      "metadata": {
        "colab": {
          "base_uri": "https://localhost:8080/"
        },
        "id": "jSMElgj3Tesu",
        "outputId": "e5ff8554-fa4c-4010-b616-7ff09f7d0b28"
      },
      "outputs": [
        {
          "output_type": "stream",
          "name": "stdout",
          "text": [
            "Model: \"model_2\"\n",
            "_________________________________________________________________\n",
            " Layer (type)                Output Shape              Param #   \n",
            "=================================================================\n",
            " input_3 (InputLayer)        [(None, 28, 1)]           0         \n",
            "                                                                 \n",
            " bidirectional (Bidirectiona  (None, 28, 1024)         1582080   \n",
            " l)                                                              \n",
            "                                                                 \n",
            " time_distributed_2 (TimeDis  (None, 28, 98)           100450    \n",
            " tributed)                                                       \n",
            "                                                                 \n",
            "=================================================================\n",
            "Total params: 1,682,530\n",
            "Trainable params: 1,682,530\n",
            "Non-trainable params: 0\n",
            "_________________________________________________________________\n"
          ]
        }
      ],
      "source": [
        "\n",
        "bd_rnn_model = bd_model(\n",
        "    tmp_x.shape,\n",
        "    # Add 1 because padding introduces 0\n",
        "    len(class_tokenizer.word_index) + 1) # Add 1 because padding introduces 0\n",
        "bd_rnn_model.summary()"
      ]
    },
    {
      "cell_type": "code",
      "execution_count": null,
      "metadata": {
        "id": "mvAGlZSpovhR"
      },
      "outputs": [],
      "source": []
    },
    {
      "cell_type": "code",
      "execution_count": null,
      "metadata": {
        "colab": {
          "base_uri": "https://localhost:8080/"
        },
        "id": "zbfN7VnHTep6",
        "outputId": "1f30e89a-09e1-45fb-dd33-473322ebd9c4"
      },
      "outputs": [
        {
          "output_type": "stream",
          "name": "stdout",
          "text": [
            "Epoch 1/30\n",
            "289/289 [==============================] - 7s 14ms/step - loss: 0.3802 - accuracy: 0.9192 - val_loss: 0.3820 - val_accuracy: 0.9306\n",
            "Epoch 2/30\n",
            "289/289 [==============================] - 3s 9ms/step - loss: 0.2675 - accuracy: 0.9324 - val_loss: 0.4148 - val_accuracy: 0.9306\n",
            "Epoch 3/30\n",
            "289/289 [==============================] - 2s 9ms/step - loss: 0.2461 - accuracy: 0.9376 - val_loss: 0.3640 - val_accuracy: 0.9309\n",
            "Epoch 4/30\n",
            "289/289 [==============================] - 2s 8ms/step - loss: 0.2351 - accuracy: 0.9390 - val_loss: 0.3580 - val_accuracy: 0.9312\n",
            "Epoch 5/30\n",
            "289/289 [==============================] - 2s 8ms/step - loss: 0.2277 - accuracy: 0.9411 - val_loss: 0.3462 - val_accuracy: 0.9319\n",
            "Epoch 6/30\n",
            "289/289 [==============================] - 3s 10ms/step - loss: 0.2204 - accuracy: 0.9421 - val_loss: 0.3933 - val_accuracy: 0.9313\n",
            "Epoch 7/30\n",
            "289/289 [==============================] - 3s 11ms/step - loss: 0.2172 - accuracy: 0.9430 - val_loss: 0.3330 - val_accuracy: 0.9318\n",
            "Epoch 8/30\n",
            "289/289 [==============================] - 2s 8ms/step - loss: 0.2096 - accuracy: 0.9440 - val_loss: 0.3105 - val_accuracy: 0.9341\n",
            "Epoch 9/30\n",
            "289/289 [==============================] - 2s 9ms/step - loss: 0.2050 - accuracy: 0.9447 - val_loss: 0.3506 - val_accuracy: 0.9335\n",
            "Epoch 10/30\n",
            "289/289 [==============================] - 2s 9ms/step - loss: 0.2020 - accuracy: 0.9460 - val_loss: 0.3413 - val_accuracy: 0.9351\n",
            "Epoch 11/30\n",
            "289/289 [==============================] - 2s 9ms/step - loss: 0.2014 - accuracy: 0.9459 - val_loss: 0.3592 - val_accuracy: 0.9347\n",
            "Epoch 12/30\n",
            "289/289 [==============================] - 3s 10ms/step - loss: 0.1975 - accuracy: 0.9465 - val_loss: 0.3579 - val_accuracy: 0.9322\n",
            "Epoch 13/30\n",
            "289/289 [==============================] - 3s 10ms/step - loss: 0.1970 - accuracy: 0.9466 - val_loss: 0.3658 - val_accuracy: 0.9353\n",
            "Epoch 14/30\n",
            "289/289 [==============================] - 3s 9ms/step - loss: 0.2004 - accuracy: 0.9458 - val_loss: 0.3567 - val_accuracy: 0.9352\n",
            "Epoch 15/30\n",
            "289/289 [==============================] - 2s 8ms/step - loss: 0.1954 - accuracy: 0.9475 - val_loss: 0.3343 - val_accuracy: 0.9350\n",
            "Epoch 16/30\n",
            "289/289 [==============================] - 2s 8ms/step - loss: 0.1912 - accuracy: 0.9473 - val_loss: 0.3809 - val_accuracy: 0.9317\n",
            "Epoch 17/30\n",
            "289/289 [==============================] - 3s 9ms/step - loss: 0.1901 - accuracy: 0.9478 - val_loss: 0.3388 - val_accuracy: 0.9363\n",
            "Epoch 18/30\n",
            "289/289 [==============================] - 3s 11ms/step - loss: 0.1874 - accuracy: 0.9485 - val_loss: 0.3215 - val_accuracy: 0.9366\n",
            "Epoch 19/30\n",
            "289/289 [==============================] - 3s 9ms/step - loss: 0.1832 - accuracy: 0.9497 - val_loss: 0.3413 - val_accuracy: 0.9350\n",
            "Epoch 20/30\n",
            "289/289 [==============================] - 2s 9ms/step - loss: 0.1844 - accuracy: 0.9496 - val_loss: 0.3952 - val_accuracy: 0.9320\n",
            "Epoch 21/30\n",
            "289/289 [==============================] - 2s 9ms/step - loss: 0.1880 - accuracy: 0.9485 - val_loss: 0.3553 - val_accuracy: 0.9356\n",
            "Epoch 22/30\n",
            "289/289 [==============================] - 2s 9ms/step - loss: 0.1807 - accuracy: 0.9499 - val_loss: 0.3576 - val_accuracy: 0.9347\n",
            "Epoch 23/30\n",
            "289/289 [==============================] - 3s 10ms/step - loss: 0.1795 - accuracy: 0.9505 - val_loss: 0.3669 - val_accuracy: 0.9336\n",
            "Epoch 24/30\n",
            "289/289 [==============================] - 3s 11ms/step - loss: 0.1812 - accuracy: 0.9497 - val_loss: 0.3547 - val_accuracy: 0.9333\n",
            "Epoch 25/30\n",
            "289/289 [==============================] - 2s 9ms/step - loss: 0.1789 - accuracy: 0.9505 - val_loss: 0.3716 - val_accuracy: 0.9336\n",
            "Epoch 26/30\n",
            "289/289 [==============================] - 2s 9ms/step - loss: 0.1783 - accuracy: 0.9510 - val_loss: 0.3507 - val_accuracy: 0.9382\n",
            "Epoch 27/30\n",
            "289/289 [==============================] - 2s 8ms/step - loss: 0.1749 - accuracy: 0.9516 - val_loss: 0.3758 - val_accuracy: 0.9362\n",
            "Epoch 28/30\n",
            "289/289 [==============================] - 2s 8ms/step - loss: 0.1742 - accuracy: 0.9515 - val_loss: 0.4149 - val_accuracy: 0.9333\n",
            "Epoch 29/30\n",
            "289/289 [==============================] - 3s 10ms/step - loss: 0.1746 - accuracy: 0.9519 - val_loss: 0.3655 - val_accuracy: 0.9355\n",
            "Epoch 30/30\n",
            "289/289 [==============================] - 3s 10ms/step - loss: 0.1755 - accuracy: 0.9516 - val_loss: 0.3607 - val_accuracy: 0.9371\n"
          ]
        },
        {
          "output_type": "execute_result",
          "data": {
            "text/plain": [
              "<keras.callbacks.History at 0x7f53b8faa1c0>"
            ]
          },
          "metadata": {},
          "execution_count": 159
        }
      ],
      "source": [
        "bd_rnn_model.fit(tmp_x, preproc_class, batch_size=16, epochs=30, validation_split=0.2)"
      ]
    },
    {
      "cell_type": "code",
      "execution_count": null,
      "metadata": {
        "colab": {
          "base_uri": "https://localhost:8080/",
          "height": 541
        },
        "id": "rbqFUOhuvzDl",
        "outputId": "d4697f99-30f5-4d3f-baeb-6b24229a11f9"
      },
      "outputs": [
        {
          "data": {
            "image/png": "[encoded data removed]",
            "text/plain": [
              "<Figure size 432x288 with 1 Axes>"
            ]
          },
          "metadata": {},
          "output_type": "display_data"
        },
        {
          "data": {
            "image/png": "[encoded data removed]",
            "text/plain": [
              "<Figure size 432x288 with 1 Axes>"
            ]
          },
          "metadata": {},
          "output_type": "display_data"
        }
      ],
      "source": [
        "plot_graphs(bd_rnn_model.history, 'accuracy')\n",
        "plot_graphs(bd_rnn_model.history, 'loss')"
      ]
    },
    {
      "cell_type": "code",
      "execution_count": null,
      "metadata": {
        "colab": {
          "base_uri": "https://localhost:8080/"
        },
        "id": "jj13cnU1pNDQ",
        "outputId": "a2c2a09e-72d3-40d4-92cb-7b4ea23f8eba"
      },
      "outputs": [
        {
          "output_type": "stream",
          "name": "stdout",
          "text": [
            "Data Preprocessed\n"
          ]
        }
      ],
      "source": [
        "preproc_sentence_test, preproc_class_test, sentence_tokenizer_test, class_tokenizer_test =\\\n",
        "    preprocess_s_c(test_sentences, test_classes)\n",
        "print('Data Preprocessed')\n",
        "# Reshape the input to work with a basic RNN\n",
        "tmp_x_test = pad(preproc_sentence_test, preproc_class_test.shape[1])\n",
        "tmp_x_test = tmp_x_test.reshape((-1, preproc_class_test.shape[-2], 1))\n"
      ]
    },
    {
      "cell_type": "code",
      "execution_count": null,
      "metadata": {
        "colab": {
          "base_uri": "https://localhost:8080/"
        },
        "id": "o1rorprEpaEM",
        "outputId": "5be00afc-5ef8-48b5-c8b5-02a4ea2206a3"
      },
      "outputs": [
        {
          "output_type": "stream",
          "name": "stdout",
          "text": [
            "29/29 [==============================] - 0s 8ms/step - loss: 0.7548 - accuracy: 0.9068\n"
          ]
        },
        {
          "output_type": "execute_result",
          "data": {
            "text/plain": [
              "[0.7548370361328125, 0.9068357348442078]"
            ]
          },
          "metadata": {},
          "execution_count": 161
        }
      ],
      "source": [
        "bd_rnn_model.evaluate(tmp_x_test,preproc_class_test)"
      ]
    },
    {
      "cell_type": "code",
      "execution_count": null,
      "metadata": {
        "colab": {
          "base_uri": "https://localhost:8080/",
          "height": 70
        },
        "id": "xj_7M0WDTemd",
        "outputId": "6aec9b65-a5e6-42f8-f77f-c80c7a170bf3"
      },
      "outputs": [
        {
          "output_type": "stream",
          "name": "stdout",
          "text": [
            "1/1 [==============================] - 1s 539ms/step\n",
            "logist shape:  (28, 98)\n"
          ]
        },
        {
          "output_type": "execute_result",
          "data": {
            "text/plain": [
              "'i-politenesse b-dep_hour_req b-politenesse o i-fare b-train b-destination                     '"
            ],
            "application/vnd.google.colaboratory.intrinsic+json": {
              "type": "string"
            }
          },
          "metadata": {},
          "execution_count": 162
        }
      ],
      "source": [
        "logits_to_text(bd_rnn_model.predict(tmp_x[:1])[0], class_tokenizer)"
      ]
    },
    {
      "cell_type": "code",
      "execution_count": null,
      "metadata": {
        "colab": {
          "base_uri": "https://localhost:8080/"
        },
        "id": "7wWgRPwr9wvW",
        "outputId": "5b3b83e9-4928-4f36-afc3-a394b7dea4c9"
      },
      "outputs": [
        {
          "output_type": "stream",
          "name": "stdout",
          "text": [
            "1/1 [==============================] - 0s 17ms/step\n",
            "logist shape:  (28, 98)\n",
            "b-ticket_numbers i-fare b-train_type                         \n",
            "[['ثم', 'واحد_آخر', 'تو']]\n",
            "[['B-Existence_Req', 'B-Train', 'B-Dep_hour']]\n"
          ]
        }
      ],
      "source": [
        "# Print prediction(s)\n",
        "print(logits_to_text(bd_rnn_model.predict(tmp_x[1:2])[0], class_tokenizer))\n",
        "print(train_sentences[1:2])\n",
        "print(train_classes[1:2])"
      ]
    },
    {
      "cell_type": "markdown",
      "metadata": {
        "id": "ZR5tzc0oEiRA"
      },
      "source": [
        "## Custum\n",
        "embedding + birnn"
      ]
    },
    {
      "cell_type": "code",
      "execution_count": null,
      "metadata": {
        "id": "BamnW0xkEltQ"
      },
      "outputs": [],
      "source": [
        "def model_final(input_shape, output_sequence_length, sentence_vocab_size, class_vocab_size):\n",
        "    \"\"\"Build and train a model that incorporates embedding, encoder-decoder, and bidirectional RNN on x and y.\n",
        "    \n",
        "    Parameters:\n",
        "    input_shape: Tuple of input shape\n",
        "    output_sequence_length: Length of output sequence\n",
        "    sentence_vocab_size: Number of unique sentence words in the dataset\n",
        "    class_vocab_size: Number of unique French words in the dataset\n",
        "    \n",
        "    Returns: \n",
        "    Keras model built, but not trained\n",
        "    \"\"\"\n",
        "    learning_rate = 0.001\n",
        "    inputs = Input(shape=input_shape[1:])\n",
        "    encoded = Embedding(sentence_vocab_size, 30)(inputs)\n",
        "    encoded = Bidirectional(LSTM(28, dropout=0.2))(encoded)\n",
        "    encoded = Dense(28, activation='relu')(encoded)\n",
        "    \n",
        "    decoded = RepeatVector(output_sequence_length)(encoded)\n",
        "    decoded = Bidirectional(LSTM(28, dropout=0.2, return_sequences=True))(decoded)\n",
        "    decoded = TimeDistributed(Dense(class_vocab_size))(decoded)\n",
        "    \n",
        "    predictions = Activation('softmax')(decoded)\n",
        "    model = Model(inputs=inputs, outputs=predictions)\n",
        "    model.compile(loss=sparse_categorical_crossentropy,\n",
        "                  optimizer=Adam(learning_rate),\n",
        "                  metrics=['accuracy'])\n",
        "    return model"
      ]
    },
    {
      "cell_type": "code",
      "execution_count": null,
      "metadata": {
        "colab": {
          "base_uri": "https://localhost:8080/"
        },
        "id": "zOnv3r4LslxY",
        "outputId": "4ff634f5-ce2e-4c37-bcf5-7c522a609dc4"
      },
      "outputs": [
        {
          "output_type": "stream",
          "name": "stdout",
          "text": [
            "Data Preprocessed\n"
          ]
        }
      ],
      "source": [
        "preproc_sentence, preproc_class, sentence_tokenizer, class_tokenizer =\\\n",
        "    preprocess_s_c(train_sentences, train_classes)\n",
        "print('Data Preprocessed')\n",
        "# Reshape the input to work with a basic RNN\n",
        "tmp_x = pad(preproc_sentence, preproc_class.shape[1])\n",
        "tmp_x = tmp_x.reshape((-1, preproc_class.shape[-2], 1))\n"
      ]
    },
    {
      "cell_type": "code",
      "execution_count": null,
      "metadata": {
        "id": "B-fHClFIsf39"
      },
      "outputs": [],
      "source": []
    },
    {
      "cell_type": "code",
      "execution_count": null,
      "metadata": {
        "id": "0_GYVYcwEqby"
      },
      "outputs": [],
      "source": [
        "x=preproc_sentence\n",
        "y=preproc_class\n",
        "y_tk=class_tokenizer"
      ]
    },
    {
      "cell_type": "code",
      "execution_count": null,
      "metadata": {
        "colab": {
          "base_uri": "https://localhost:8080/"
        },
        "id": "xV5Tr45Oi6G6",
        "outputId": "a227bdbb-c5b9-4827-8ea4-85392bec25eb"
      },
      "outputs": [
        {
          "data": {
            "text/plain": [
              "(4141, 28)"
            ]
          },
          "execution_count": 87,
          "metadata": {},
          "output_type": "execute_result"
        }
      ],
      "source": [
        "x.shape"
      ]
    },
    {
      "cell_type": "code",
      "execution_count": null,
      "metadata": {
        "colab": {
          "base_uri": "https://localhost:8080/"
        },
        "id": "cLrUKw9GjJYt",
        "outputId": "a8c3ccdd-d63f-4b3e-ffe0-247a0881962a"
      },
      "outputs": [
        {
          "data": {
            "text/plain": [
              "28"
            ]
          },
          "execution_count": 88,
          "metadata": {},
          "output_type": "execute_result"
        }
      ],
      "source": [
        "y.shape[1]"
      ]
    },
    {
      "cell_type": "code",
      "execution_count": null,
      "metadata": {
        "id": "IpQjJhdvjNX4"
      },
      "outputs": [],
      "source": []
    },
    {
      "cell_type": "code",
      "execution_count": null,
      "metadata": {
        "colab": {
          "base_uri": "https://localhost:8080/"
        },
        "id": "6Yj6Pe0GlsKd",
        "outputId": "666a525e-33f1-4b32-d4db-04a49fad1d28"
      },
      "outputs": [
        {
          "data": {
            "text/plain": [
              "65"
            ]
          },
          "execution_count": 89,
          "metadata": {},
          "output_type": "execute_result"
        }
      ],
      "source": [
        "len(y_tk.word_index)"
      ]
    },
    {
      "cell_type": "code",
      "execution_count": null,
      "metadata": {
        "colab": {
          "base_uri": "https://localhost:8080/"
        },
        "id": "JskLZIZHEyNU",
        "outputId": "475ea73a-5988-437b-d860-a4ade1df25b6"
      },
      "outputs": [
        {
          "output_type": "stream",
          "name": "stdout",
          "text": [
            "Model: \"model_3\"\n",
            "_________________________________________________________________\n",
            " Layer (type)                Output Shape              Param #   \n",
            "=================================================================\n",
            " input_4 (InputLayer)        [(None, 28)]              0         \n",
            "                                                                 \n",
            " embedding_1 (Embedding)     (None, 28, 30)            47040     \n",
            "                                                                 \n",
            " bidirectional_1 (Bidirectio  (None, 56)               13216     \n",
            " nal)                                                            \n",
            "                                                                 \n",
            " dense_3 (Dense)             (None, 28)                1596      \n",
            "                                                                 \n",
            " repeat_vector (RepeatVector  (None, 28, 28)           0         \n",
            " )                                                               \n",
            "                                                                 \n",
            " bidirectional_2 (Bidirectio  (None, 28, 56)           12768     \n",
            " nal)                                                            \n",
            "                                                                 \n",
            " time_distributed_3 (TimeDis  (None, 28, 98)           5586      \n",
            " tributed)                                                       \n",
            "                                                                 \n",
            " activation (Activation)     (None, 28, 98)            0         \n",
            "                                                                 \n",
            "=================================================================\n",
            "Total params: 80,206\n",
            "Trainable params: 80,206\n",
            "Non-trainable params: 0\n",
            "_________________________________________________________________\n",
            "None\n"
          ]
        }
      ],
      "source": [
        "model = model_final(\n",
        "    x.shape,\n",
        "    y.shape[1],\n",
        "    len(sentence_tokenizer.index_word)+1,\n",
        "    len(y_tk.word_index)+1)\n",
        "print (model.summary())"
      ]
    },
    {
      "cell_type": "code",
      "execution_count": null,
      "metadata": {
        "colab": {
          "base_uri": "https://localhost:8080/"
        },
        "id": "SvVhXP8kE1AU",
        "outputId": "ca7fb651-da5b-4ff4-ff84-2e6762ba2909"
      },
      "outputs": [
        {
          "output_type": "stream",
          "name": "stdout",
          "text": [
            "Epoch 1/40\n",
            "506/506 [==============================] - 15s 19ms/step - loss: 0.6893 - accuracy: 0.8910 - val_loss: 0.5825 - val_accuracy: 0.9283\n",
            "Epoch 2/40\n",
            "506/506 [==============================] - 7s 13ms/step - loss: 0.3865 - accuracy: 0.9041 - val_loss: 0.6246 - val_accuracy: 0.9286\n",
            "Epoch 3/40\n",
            "506/506 [==============================] - 8s 16ms/step - loss: 0.3589 - accuracy: 0.9100 - val_loss: 0.6646 - val_accuracy: 0.9288\n",
            "Epoch 4/40\n",
            "506/506 [==============================] - 6s 13ms/step - loss: 0.3454 - accuracy: 0.9122 - val_loss: 0.7026 - val_accuracy: 0.9289\n",
            "Epoch 5/40\n",
            "506/506 [==============================] - 8s 16ms/step - loss: 0.3365 - accuracy: 0.9141 - val_loss: 0.7265 - val_accuracy: 0.9289\n",
            "Epoch 6/40\n",
            "506/506 [==============================] - 6s 13ms/step - loss: 0.3310 - accuracy: 0.9147 - val_loss: 0.7383 - val_accuracy: 0.9290\n",
            "Epoch 7/40\n",
            "506/506 [==============================] - 8s 15ms/step - loss: 0.3276 - accuracy: 0.9154 - val_loss: 0.7547 - val_accuracy: 0.9290\n",
            "Epoch 8/40\n",
            "506/506 [==============================] - 7s 13ms/step - loss: 0.3247 - accuracy: 0.9155 - val_loss: 0.7748 - val_accuracy: 0.9289\n",
            "Epoch 9/40\n",
            "506/506 [==============================] - 10s 20ms/step - loss: 0.3220 - accuracy: 0.9163 - val_loss: 0.7860 - val_accuracy: 0.9290\n",
            "Epoch 10/40\n",
            "506/506 [==============================] - 7s 14ms/step - loss: 0.3204 - accuracy: 0.9167 - val_loss: 0.8145 - val_accuracy: 0.9290\n",
            "Epoch 11/40\n",
            "506/506 [==============================] - 8s 16ms/step - loss: 0.3178 - accuracy: 0.9173 - val_loss: 0.8350 - val_accuracy: 0.9290\n",
            "Epoch 12/40\n",
            "506/506 [==============================] - 7s 13ms/step - loss: 0.3157 - accuracy: 0.9169 - val_loss: 0.8379 - val_accuracy: 0.9290\n",
            "Epoch 13/40\n",
            "506/506 [==============================] - 8s 16ms/step - loss: 0.3101 - accuracy: 0.9184 - val_loss: 0.9071 - val_accuracy: 0.9292\n",
            "Epoch 14/40\n",
            "506/506 [==============================] - 6s 13ms/step - loss: 0.3049 - accuracy: 0.9193 - val_loss: 0.8803 - val_accuracy: 0.9292\n",
            "Epoch 15/40\n",
            "506/506 [==============================] - 8s 16ms/step - loss: 0.2966 - accuracy: 0.9203 - val_loss: 0.9140 - val_accuracy: 0.9292\n",
            "Epoch 16/40\n",
            "506/506 [==============================] - 7s 13ms/step - loss: 0.2891 - accuracy: 0.9218 - val_loss: 0.9409 - val_accuracy: 0.9294\n",
            "Epoch 17/40\n",
            "506/506 [==============================] - 8s 15ms/step - loss: 0.2840 - accuracy: 0.9230 - val_loss: 0.9695 - val_accuracy: 0.9294\n",
            "Epoch 18/40\n",
            "506/506 [==============================] - 7s 13ms/step - loss: 0.2788 - accuracy: 0.9239 - val_loss: 0.9427 - val_accuracy: 0.9293\n",
            "Epoch 19/40\n",
            "506/506 [==============================] - 8s 15ms/step - loss: 0.2754 - accuracy: 0.9247 - val_loss: 0.9794 - val_accuracy: 0.9293\n",
            "Epoch 20/40\n",
            "506/506 [==============================] - 7s 13ms/step - loss: 0.2703 - accuracy: 0.9256 - val_loss: 0.9926 - val_accuracy: 0.9293\n",
            "Epoch 21/40\n",
            "506/506 [==============================] - 8s 15ms/step - loss: 0.2674 - accuracy: 0.9258 - val_loss: 1.0137 - val_accuracy: 0.9294\n",
            "Epoch 22/40\n",
            "506/506 [==============================] - 7s 13ms/step - loss: 0.2649 - accuracy: 0.9268 - val_loss: 1.0307 - val_accuracy: 0.9294\n",
            "Epoch 23/40\n",
            "506/506 [==============================] - 8s 15ms/step - loss: 0.2617 - accuracy: 0.9271 - val_loss: 1.0281 - val_accuracy: 0.9294\n",
            "Epoch 24/40\n",
            "506/506 [==============================] - 7s 14ms/step - loss: 0.2619 - accuracy: 0.9270 - val_loss: 1.0525 - val_accuracy: 0.9294\n",
            "Epoch 25/40\n",
            "506/506 [==============================] - 8s 15ms/step - loss: 0.2570 - accuracy: 0.9279 - val_loss: 1.0602 - val_accuracy: 0.9294\n",
            "Epoch 26/40\n",
            "506/506 [==============================] - 7s 14ms/step - loss: 0.2538 - accuracy: 0.9290 - val_loss: 1.0808 - val_accuracy: 0.9295\n",
            "Epoch 27/40\n",
            "506/506 [==============================] - 7s 15ms/step - loss: 0.2506 - accuracy: 0.9301 - val_loss: 1.0838 - val_accuracy: 0.9296\n",
            "Epoch 28/40\n",
            "506/506 [==============================] - 7s 14ms/step - loss: 0.2471 - accuracy: 0.9303 - val_loss: 1.0916 - val_accuracy: 0.9294\n",
            "Epoch 29/40\n",
            "506/506 [==============================] - 7s 15ms/step - loss: 0.2444 - accuracy: 0.9312 - val_loss: 1.1037 - val_accuracy: 0.9296\n",
            "Epoch 30/40\n",
            "506/506 [==============================] - 7s 14ms/step - loss: 0.2412 - accuracy: 0.9320 - val_loss: 1.1166 - val_accuracy: 0.9297\n",
            "Epoch 31/40\n",
            "506/506 [==============================] - 8s 15ms/step - loss: 0.2396 - accuracy: 0.9327 - val_loss: 1.1357 - val_accuracy: 0.9297\n",
            "Epoch 32/40\n",
            "506/506 [==============================] - 9s 18ms/step - loss: 0.2356 - accuracy: 0.9332 - val_loss: 1.1390 - val_accuracy: 0.9296\n",
            "Epoch 33/40\n",
            "506/506 [==============================] - 7s 13ms/step - loss: 0.2339 - accuracy: 0.9337 - val_loss: 1.1595 - val_accuracy: 0.9297\n",
            "Epoch 34/40\n",
            "506/506 [==============================] - 8s 16ms/step - loss: 0.2314 - accuracy: 0.9345 - val_loss: 1.1728 - val_accuracy: 0.9297\n",
            "Epoch 35/40\n",
            "506/506 [==============================] - 7s 13ms/step - loss: 0.2290 - accuracy: 0.9350 - val_loss: 1.1969 - val_accuracy: 0.9296\n",
            "Epoch 36/40\n",
            "506/506 [==============================] - 8s 16ms/step - loss: 0.2268 - accuracy: 0.9359 - val_loss: 1.2053 - val_accuracy: 0.9298\n",
            "Epoch 37/40\n",
            "506/506 [==============================] - 7s 13ms/step - loss: 0.2244 - accuracy: 0.9363 - val_loss: 1.2300 - val_accuracy: 0.9297\n",
            "Epoch 38/40\n",
            "506/506 [==============================] - 8s 16ms/step - loss: 0.2211 - accuracy: 0.9372 - val_loss: 1.2440 - val_accuracy: 0.9298\n",
            "Epoch 39/40\n",
            "506/506 [==============================] - 7s 13ms/step - loss: 0.2180 - accuracy: 0.9382 - val_loss: 1.2435 - val_accuracy: 0.9298\n",
            "Epoch 40/40\n",
            "506/506 [==============================] - 8s 16ms/step - loss: 0.2166 - accuracy: 0.9385 - val_loss: 1.2445 - val_accuracy: 0.9297\n"
          ]
        },
        {
          "output_type": "execute_result",
          "data": {
            "text/plain": [
              "<keras.callbacks.History at 0x7f538c1fa6a0>"
            ]
          },
          "metadata": {},
          "execution_count": 168
        }
      ],
      "source": [
        "model.fit(x, y, batch_size=8, epochs=40, validation_split=0.3)"
      ]
    },
    {
      "cell_type": "code",
      "execution_count": null,
      "metadata": {
        "colab": {
          "base_uri": "https://localhost:8080/",
          "height": 542
        },
        "id": "CddxaF6ssprR",
        "outputId": "3ed08796-9294-4450-88d7-a8f4738d34f3"
      },
      "outputs": [
        {
          "output_type": "display_data",
          "data": {
            "text/plain": [
              "<Figure size 432x288 with 1 Axes>"
            ],
            "image/png": "[encoded data removed]"
          },
          "metadata": {
            "needs_background": "light"
          }
        },
        {
          "output_type": "display_data",
          "data": {
            "text/plain": [
              "<Figure size 432x288 with 1 Axes>"
            ],
            "image/png": "[encoded data removed]"
          },
          "metadata": {
            "needs_background": "light"
          }
        }
      ],
      "source": [
        "plot_graphs(model.history, 'accuracy')\n",
        "plot_graphs(model.history, 'loss')"
      ]
    },
    {
      "cell_type": "code",
      "execution_count": null,
      "metadata": {
        "colab": {
          "base_uri": "https://localhost:8080/"
        },
        "id": "O2E1RNZBsols",
        "outputId": "9904152e-b83b-4a1a-ebc8-1de537d587ff"
      },
      "outputs": [
        {
          "output_type": "stream",
          "name": "stdout",
          "text": [
            "Data Preprocessed\n"
          ]
        }
      ],
      "source": [
        "preproc_sentence_test, preproc_class_test, sentence_tokenizer_test, class_tokenizer_test =\\\n",
        "    preprocess_s_c(test_sentences, test_classes)\n",
        "print('Data Preprocessed')\n",
        "# Reshape the input to work with a basic RNN\n",
        "tmp_x_test = pad(preproc_sentence_test, preproc_class_test.shape[1])\n",
        "tmp_x_test = tmp_x_test.reshape((-1, preproc_class_test.shape[-2], 1))"
      ]
    },
    {
      "cell_type": "code",
      "execution_count": null,
      "metadata": {
        "id": "lAiBD9umOL6Q"
      },
      "outputs": [],
      "source": [
        "#preproc_class_test=preproc_class_test.reshape(preproc_class_test.shape[:2])\n",
        "tmp_x_test=tmp_x_test.reshape(tmp_x_test.shape[:2])"
      ]
    },
    {
      "cell_type": "code",
      "execution_count": null,
      "metadata": {
        "id": "uKPhaQ4k9XEB"
      },
      "outputs": [],
      "source": []
    },
    {
      "cell_type": "code",
      "execution_count": null,
      "metadata": {
        "colab": {
          "base_uri": "https://localhost:8080/"
        },
        "id": "5VfadseVzZ9Y",
        "outputId": "39bc7e3e-d8f2-44ea-9fcb-f607787f6c80"
      },
      "outputs": [
        {
          "output_type": "stream",
          "name": "stdout",
          "text": [
            "29/29 [==============================] - 0s 6ms/step - loss: 0.8194 - accuracy: 0.9022\n"
          ]
        },
        {
          "output_type": "execute_result",
          "data": {
            "text/plain": [
              "[0.8193976283073425, 0.9022287130355835]"
            ]
          },
          "metadata": {},
          "execution_count": 173
        }
      ],
      "source": [
        "model.evaluate(tmp_x_test,preproc_class_test)"
      ]
    },
    {
      "cell_type": "code",
      "execution_count": null,
      "metadata": {
        "colab": {
          "base_uri": "https://localhost:8080/",
          "height": 70
        },
        "id": "FA1gES71E6XG",
        "outputId": "da7a7b4f-f5df-40f5-dfa3-7c085157ab8b"
      },
      "outputs": [
        {
          "output_type": "stream",
          "name": "stdout",
          "text": [
            "1/1 [==============================] - 1s 1s/step\n",
            "logist shape:  (28, 98)\n"
          ]
        },
        {
          "output_type": "execute_result",
          "data": {
            "text/plain": [
              "'b-dep_hour b-dep_hour b-dep_hour b-clarification_req                        '"
            ],
            "application/vnd.google.colaboratory.intrinsic+json": {
              "type": "string"
            }
          },
          "metadata": {},
          "execution_count": 174
        }
      ],
      "source": [
        "logits_to_text(model.predict(tmp_x[2:3])[0], class_tokenizer)"
      ]
    },
    {
      "cell_type": "code",
      "execution_count": null,
      "metadata": {
        "colab": {
          "base_uri": "https://localhost:8080/"
        },
        "id": "XS4RcyEkFBC-",
        "outputId": "3afbe022-3255-4800-c96c-caea5d0b55f5"
      },
      "outputs": [
        {
          "output_type": "stream",
          "name": "stdout",
          "text": [
            "[['ثم', 'واحد_آخر', 'بعد', 'و']]\n",
            "[['B-Existence_Req', 'B-Train', 'B-Dep_hour', 'O']]\n"
          ]
        }
      ],
      "source": [
        "print(train_sentences[2:3])\n",
        "print(train_classes[2:3])"
      ]
    },
    {
      "cell_type": "code",
      "execution_count": null,
      "metadata": {
        "id": "H2V5i1PUUsx_"
      },
      "outputs": [],
      "source": []
    },
    {
      "cell_type": "code",
      "execution_count": null,
      "metadata": {
        "id": "nOo97e_4RCk6"
      },
      "outputs": [],
      "source": []
    }
  ],
  "metadata": {
    "accelerator": "GPU",
    "colab": {
      "provenance": [],
      "collapsed_sections": [
        "ORbc8sWU6Htl",
        "3E4ySmF76NxN"
      ]
    },
    "gpuClass": "standard",
    "kernelspec": {
      "display_name": "Python 3",
      "name": "python3"
    },
    "language_info": {
      "name": "python"
    },
    "widgets": {
      "application/vnd.jupyter.widget-state+json": {
        "066316535b524bb1b7d4e66f290a913d": {
          "model_module": "@jupyter-widgets/controls",
          "model_module_version": "1.5.0",
          "model_name": "HBoxModel",
          "state": {
            "_dom_classes": [],
            "_model_module": "@jupyter-widgets/controls",
            "_model_module_version": "1.5.0",
            "_model_name": "HBoxModel",
            "_view_count": null,
            "_view_module": "@jupyter-widgets/controls",
            "_view_module_version": "1.5.0",
            "_view_name": "HBoxView",
            "box_style": "",
            "children": [
              "IPY_MODEL_eb8ed53002db4236b34b9f3ce5953dc6",
              "IPY_MODEL_7e601d0df6174e0fa87cae6f07b8f116",
              "IPY_MODEL_2703bcdb90de46fa9e957e9655df9fbf"
            ],
            "layout": "IPY_MODEL_7da88acede5e4b64a5fa770303656d0c"
          }
        },
        "0c3366d58a814ba384968e2367074df8": {
          "model_module": "@jupyter-widgets/controls",
          "model_module_version": "1.5.0",
          "model_name": "HBoxModel",
          "state": {
            "_dom_classes": [],
            "_model_module": "@jupyter-widgets/controls",
            "_model_module_version": "1.5.0",
            "_model_name": "HBoxModel",
            "_view_count": null,
            "_view_module": "@jupyter-widgets/controls",
            "_view_module_version": "1.5.0",
            "_view_name": "HBoxView",
            "box_style": "",
            "children": [
              "IPY_MODEL_7575d74dfd864587a523e0a92aa087ce",
              "IPY_MODEL_23f3ff07eb35413a817f1521e1907daa",
              "IPY_MODEL_af05473e746344a7b308750ad1630f51"
            ],
            "layout": "IPY_MODEL_f81c91a69936400087b3b8e3dce6ca68"
          }
        },
        "1777daf919644880a3736edb44620600": {
          "model_module": "@jupyter-widgets/controls",
          "model_module_version": "1.5.0",
          "model_name": "ProgressStyleModel",
          "state": {
            "_model_module": "@jupyter-widgets/controls",
            "_model_module_version": "1.5.0",
            "_model_name": "ProgressStyleModel",
            "_view_count": null,
            "_view_module": "@jupyter-widgets/base",
            "_view_module_version": "1.2.0",
            "_view_name": "StyleView",
            "bar_color": null,
            "description_width": ""
          }
        },
        "21bd4faeef4f471985e58bd5b13cd72a": {
          "model_module": "@jupyter-widgets/base",
          "model_module_version": "1.2.0",
          "model_name": "LayoutModel",
          "state": {
            "_model_module": "@jupyter-widgets/base",
            "_model_module_version": "1.2.0",
            "_model_name": "LayoutModel",
            "_view_count": null,
            "_view_module": "@jupyter-widgets/base",
            "_view_module_version": "1.2.0",
            "_view_name": "LayoutView",
            "align_content": null,
            "align_items": null,
            "align_self": null,
            "border": null,
            "bottom": null,
            "display": null,
            "flex": null,
            "flex_flow": null,
            "grid_area": null,
            "grid_auto_columns": null,
            "grid_auto_flow": null,
            "grid_auto_rows": null,
            "grid_column": null,
            "grid_gap": null,
            "grid_row": null,
            "grid_template_areas": null,
            "grid_template_columns": null,
            "grid_template_rows": null,
            "height": null,
            "justify_content": null,
            "justify_items": null,
            "left": null,
            "margin": null,
            "max_height": null,
            "max_width": null,
            "min_height": null,
            "min_width": null,
            "object_fit": null,
            "object_position": null,
            "order": null,
            "overflow": null,
            "overflow_x": null,
            "overflow_y": null,
            "padding": null,
            "right": null,
            "top": null,
            "visibility": null,
            "width": null
          }
        },
        "23f3ff07eb35413a817f1521e1907daa": {
          "model_module": "@jupyter-widgets/controls",
          "model_module_version": "1.5.0",
          "model_name": "FloatProgressModel",
          "state": {
            "_dom_classes": [],
            "_model_module": "@jupyter-widgets/controls",
            "_model_module_version": "1.5.0",
            "_model_name": "FloatProgressModel",
            "_view_count": null,
            "_view_module": "@jupyter-widgets/controls",
            "_view_module_version": "1.5.0",
            "_view_name": "ProgressView",
            "bar_style": "success",
            "description": "",
            "description_tooltip": null,
            "layout": "IPY_MODEL_b8983d3e7ab34849bcf68996c84bb92b",
            "max": 112,
            "min": 0,
            "orientation": "horizontal",
            "style": "IPY_MODEL_af4bb919be6f4714a5ef97f675750952",
            "value": 112
          }
        },
        "2703bcdb90de46fa9e957e9655df9fbf": {
          "model_module": "@jupyter-widgets/controls",
          "model_module_version": "1.5.0",
          "model_name": "HTMLModel",
          "state": {
            "_dom_classes": [],
            "_model_module": "@jupyter-widgets/controls",
            "_model_module_version": "1.5.0",
            "_model_name": "HTMLModel",
            "_view_count": null,
            "_view_module": "@jupyter-widgets/controls",
            "_view_module_version": "1.5.0",
            "_view_name": "HTMLView",
            "description": "",
            "description_tooltip": null,
            "layout": "IPY_MODEL_a7076c6cb3294a119d51eb44eca116a0",
            "placeholder": "​",
            "style": "IPY_MODEL_c5302ee764874c4eb927e5e43af546a8",
            "value": " 476/476 [00:00&lt;00:00, 18.7kB/s]"
          }
        },
        "2bcfc8244f6a45509d24f50d1c4731e2": {
          "model_module": "@jupyter-widgets/base",
          "model_module_version": "1.2.0",
          "model_name": "LayoutModel",
          "state": {
            "_model_module": "@jupyter-widgets/base",
            "_model_module_version": "1.2.0",
            "_model_name": "LayoutModel",
            "_view_count": null,
            "_view_module": "@jupyter-widgets/base",
            "_view_module_version": "1.2.0",
            "_view_name": "LayoutView",
            "align_content": null,
            "align_items": null,
            "align_self": null,
            "border": null,
            "bottom": null,
            "display": null,
            "flex": null,
            "flex_flow": null,
            "grid_area": null,
            "grid_auto_columns": null,
            "grid_auto_flow": null,
            "grid_auto_rows": null,
            "grid_column": null,
            "grid_gap": null,
            "grid_row": null,
            "grid_template_areas": null,
            "grid_template_columns": null,
            "grid_template_rows": null,
            "height": null,
            "justify_content": null,
            "justify_items": null,
            "left": null,
            "margin": null,
            "max_height": null,
            "max_width": null,
            "min_height": null,
            "min_width": null,
            "object_fit": null,
            "object_position": null,
            "order": null,
            "overflow": null,
            "overflow_x": null,
            "overflow_y": null,
            "padding": null,
            "right": null,
            "top": null,
            "visibility": null,
            "width": null
          }
        },
        "4af0c43e3c5a404bb0783e68b65ca042": {
          "model_module": "@jupyter-widgets/base",
          "model_module_version": "1.2.0",
          "model_name": "LayoutModel",
          "state": {
            "_model_module": "@jupyter-widgets/base",
            "_model_module_version": "1.2.0",
            "_model_name": "LayoutModel",
            "_view_count": null,
            "_view_module": "@jupyter-widgets/base",
            "_view_module_version": "1.2.0",
            "_view_name": "LayoutView",
            "align_content": null,
            "align_items": null,
            "align_self": null,
            "border": null,
            "bottom": null,
            "display": null,
            "flex": null,
            "flex_flow": null,
            "grid_area": null,
            "grid_auto_columns": null,
            "grid_auto_flow": null,
            "grid_auto_rows": null,
            "grid_column": null,
            "grid_gap": null,
            "grid_row": null,
            "grid_template_areas": null,
            "grid_template_columns": null,
            "grid_template_rows": null,
            "height": null,
            "justify_content": null,
            "justify_items": null,
            "left": null,
            "margin": null,
            "max_height": null,
            "max_width": null,
            "min_height": null,
            "min_width": null,
            "object_fit": null,
            "object_position": null,
            "order": null,
            "overflow": null,
            "overflow_x": null,
            "overflow_y": null,
            "padding": null,
            "right": null,
            "top": null,
            "visibility": null,
            "width": null
          }
        },
        "5df0b26417f74026a800ecafab1025e8": {
          "model_module": "@jupyter-widgets/controls",
          "model_module_version": "1.5.0",
          "model_name": "ProgressStyleModel",
          "state": {
            "_model_module": "@jupyter-widgets/controls",
            "_model_module_version": "1.5.0",
            "_model_name": "ProgressStyleModel",
            "_view_count": null,
            "_view_module": "@jupyter-widgets/base",
            "_view_module_version": "1.2.0",
            "_view_name": "StyleView",
            "bar_color": null,
            "description_width": ""
          }
        },
        "60038c102e0f45a99f66f0a7641500bf": {
          "model_module": "@jupyter-widgets/controls",
          "model_module_version": "1.5.0",
          "model_name": "DescriptionStyleModel",
          "state": {
            "_model_module": "@jupyter-widgets/controls",
            "_model_module_version": "1.5.0",
            "_model_name": "DescriptionStyleModel",
            "_view_count": null,
            "_view_module": "@jupyter-widgets/base",
            "_view_module_version": "1.2.0",
            "_view_name": "StyleView",
            "description_width": ""
          }
        },
        "7575d74dfd864587a523e0a92aa087ce": {
          "model_module": "@jupyter-widgets/controls",
          "model_module_version": "1.5.0",
          "model_name": "HTMLModel",
          "state": {
            "_dom_classes": [],
            "_model_module": "@jupyter-widgets/controls",
            "_model_module_version": "1.5.0",
            "_model_name": "HTMLModel",
            "_view_count": null,
            "_view_module": "@jupyter-widgets/controls",
            "_view_module_version": "1.5.0",
            "_view_name": "HTMLView",
            "description": "",
            "description_tooltip": null,
            "layout": "IPY_MODEL_a2e8b0fcf14f41d88158aaa49ff3c5b9",
            "placeholder": "​",
            "style": "IPY_MODEL_a5db2f716d3a4a6f996f00c9d485ce93",
            "value": "Downloading (…)cial_tokens_map.json: 100%"
          }
        },
        "7da88acede5e4b64a5fa770303656d0c": {
          "model_module": "@jupyter-widgets/base",
          "model_module_version": "1.2.0",
          "model_name": "LayoutModel",
          "state": {
            "_model_module": "@jupyter-widgets/base",
            "_model_module_version": "1.2.0",
            "_model_name": "LayoutModel",
            "_view_count": null,
            "_view_module": "@jupyter-widgets/base",
            "_view_module_version": "1.2.0",
            "_view_name": "LayoutView",
            "align_content": null,
            "align_items": null,
            "align_self": null,
            "border": null,
            "bottom": null,
            "display": null,
            "flex": null,
            "flex_flow": null,
            "grid_area": null,
            "grid_auto_columns": null,
            "grid_auto_flow": null,
            "grid_auto_rows": null,
            "grid_column": null,
            "grid_gap": null,
            "grid_row": null,
            "grid_template_areas": null,
            "grid_template_columns": null,
            "grid_template_rows": null,
            "height": null,
            "justify_content": null,
            "justify_items": null,
            "left": null,
            "margin": null,
            "max_height": null,
            "max_width": null,
            "min_height": null,
            "min_width": null,
            "object_fit": null,
            "object_position": null,
            "order": null,
            "overflow": null,
            "overflow_x": null,
            "overflow_y": null,
            "padding": null,
            "right": null,
            "top": null,
            "visibility": null,
            "width": null
          }
        },
        "7e308af116e7483fa2d29d38e7d2ed89": {
          "model_module": "@jupyter-widgets/controls",
          "model_module_version": "1.5.0",
          "model_name": "FloatProgressModel",
          "state": {
            "_dom_classes": [],
            "_model_module": "@jupyter-widgets/controls",
            "_model_module_version": "1.5.0",
            "_model_name": "FloatProgressModel",
            "_view_count": null,
            "_view_module": "@jupyter-widgets/controls",
            "_view_module_version": "1.5.0",
            "_view_name": "ProgressView",
            "bar_style": "success",
            "description": "",
            "description_tooltip": null,
            "layout": "IPY_MODEL_2bcfc8244f6a45509d24f50d1c4731e2",
            "max": 750551,
            "min": 0,
            "orientation": "horizontal",
            "style": "IPY_MODEL_5df0b26417f74026a800ecafab1025e8",
            "value": 750551
          }
        },
        "7e601d0df6174e0fa87cae6f07b8f116": {
          "model_module": "@jupyter-widgets/controls",
          "model_module_version": "1.5.0",
          "model_name": "FloatProgressModel",
          "state": {
            "_dom_classes": [],
            "_model_module": "@jupyter-widgets/controls",
            "_model_module_version": "1.5.0",
            "_model_name": "FloatProgressModel",
            "_view_count": null,
            "_view_module": "@jupyter-widgets/controls",
            "_view_module_version": "1.5.0",
            "_view_name": "ProgressView",
            "bar_style": "success",
            "description": "",
            "description_tooltip": null,
            "layout": "IPY_MODEL_fac3024ee0574d45b578c868cffe65b2",
            "max": 476,
            "min": 0,
            "orientation": "horizontal",
            "style": "IPY_MODEL_1777daf919644880a3736edb44620600",
            "value": 476
          }
        },
        "7f81661426d14e52ac82066c39aec273": {
          "model_module": "@jupyter-widgets/controls",
          "model_module_version": "1.5.0",
          "model_name": "HTMLModel",
          "state": {
            "_dom_classes": [],
            "_model_module": "@jupyter-widgets/controls",
            "_model_module_version": "1.5.0",
            "_model_name": "HTMLModel",
            "_view_count": null,
            "_view_module": "@jupyter-widgets/controls",
            "_view_module_version": "1.5.0",
            "_view_name": "HTMLView",
            "description": "",
            "description_tooltip": null,
            "layout": "IPY_MODEL_c05b05a46b534c59a49dd56fe7bd848b",
            "placeholder": "​",
            "style": "IPY_MODEL_de251a12a8a649b98776ffb526df9243",
            "value": "Downloading (…)solve/main/vocab.txt: 100%"
          }
        },
        "98c6c4fdefda4ab19e54259a775ea6e7": {
          "model_module": "@jupyter-widgets/base",
          "model_module_version": "1.2.0",
          "model_name": "LayoutModel",
          "state": {
            "_model_module": "@jupyter-widgets/base",
            "_model_module_version": "1.2.0",
            "_model_name": "LayoutModel",
            "_view_count": null,
            "_view_module": "@jupyter-widgets/base",
            "_view_module_version": "1.2.0",
            "_view_name": "LayoutView",
            "align_content": null,
            "align_items": null,
            "align_self": null,
            "border": null,
            "bottom": null,
            "display": null,
            "flex": null,
            "flex_flow": null,
            "grid_area": null,
            "grid_auto_columns": null,
            "grid_auto_flow": null,
            "grid_auto_rows": null,
            "grid_column": null,
            "grid_gap": null,
            "grid_row": null,
            "grid_template_areas": null,
            "grid_template_columns": null,
            "grid_template_rows": null,
            "height": null,
            "justify_content": null,
            "justify_items": null,
            "left": null,
            "margin": null,
            "max_height": null,
            "max_width": null,
            "min_height": null,
            "min_width": null,
            "object_fit": null,
            "object_position": null,
            "order": null,
            "overflow": null,
            "overflow_x": null,
            "overflow_y": null,
            "padding": null,
            "right": null,
            "top": null,
            "visibility": null,
            "width": null
          }
        },
        "9b93e373c88942f4a9e26c671c74c0b0": {
          "model_module": "@jupyter-widgets/base",
          "model_module_version": "1.2.0",
          "model_name": "LayoutModel",
          "state": {
            "_model_module": "@jupyter-widgets/base",
            "_model_module_version": "1.2.0",
            "_model_name": "LayoutModel",
            "_view_count": null,
            "_view_module": "@jupyter-widgets/base",
            "_view_module_version": "1.2.0",
            "_view_name": "LayoutView",
            "align_content": null,
            "align_items": null,
            "align_self": null,
            "border": null,
            "bottom": null,
            "display": null,
            "flex": null,
            "flex_flow": null,
            "grid_area": null,
            "grid_auto_columns": null,
            "grid_auto_flow": null,
            "grid_auto_rows": null,
            "grid_column": null,
            "grid_gap": null,
            "grid_row": null,
            "grid_template_areas": null,
            "grid_template_columns": null,
            "grid_template_rows": null,
            "height": null,
            "justify_content": null,
            "justify_items": null,
            "left": null,
            "margin": null,
            "max_height": null,
            "max_width": null,
            "min_height": null,
            "min_width": null,
            "object_fit": null,
            "object_position": null,
            "order": null,
            "overflow": null,
            "overflow_x": null,
            "overflow_y": null,
            "padding": null,
            "right": null,
            "top": null,
            "visibility": null,
            "width": null
          }
        },
        "a2e8b0fcf14f41d88158aaa49ff3c5b9": {
          "model_module": "@jupyter-widgets/base",
          "model_module_version": "1.2.0",
          "model_name": "LayoutModel",
          "state": {
            "_model_module": "@jupyter-widgets/base",
            "_model_module_version": "1.2.0",
            "_model_name": "LayoutModel",
            "_view_count": null,
            "_view_module": "@jupyter-widgets/base",
            "_view_module_version": "1.2.0",
            "_view_name": "LayoutView",
            "align_content": null,
            "align_items": null,
            "align_self": null,
            "border": null,
            "bottom": null,
            "display": null,
            "flex": null,
            "flex_flow": null,
            "grid_area": null,
            "grid_auto_columns": null,
            "grid_auto_flow": null,
            "grid_auto_rows": null,
            "grid_column": null,
            "grid_gap": null,
            "grid_row": null,
            "grid_template_areas": null,
            "grid_template_columns": null,
            "grid_template_rows": null,
            "height": null,
            "justify_content": null,
            "justify_items": null,
            "left": null,
            "margin": null,
            "max_height": null,
            "max_width": null,
            "min_height": null,
            "min_width": null,
            "object_fit": null,
            "object_position": null,
            "order": null,
            "overflow": null,
            "overflow_x": null,
            "overflow_y": null,
            "padding": null,
            "right": null,
            "top": null,
            "visibility": null,
            "width": null
          }
        },
        "a5db2f716d3a4a6f996f00c9d485ce93": {
          "model_module": "@jupyter-widgets/controls",
          "model_module_version": "1.5.0",
          "model_name": "DescriptionStyleModel",
          "state": {
            "_model_module": "@jupyter-widgets/controls",
            "_model_module_version": "1.5.0",
            "_model_name": "DescriptionStyleModel",
            "_view_count": null,
            "_view_module": "@jupyter-widgets/base",
            "_view_module_version": "1.2.0",
            "_view_name": "StyleView",
            "description_width": ""
          }
        },
        "a7076c6cb3294a119d51eb44eca116a0": {
          "model_module": "@jupyter-widgets/base",
          "model_module_version": "1.2.0",
          "model_name": "LayoutModel",
          "state": {
            "_model_module": "@jupyter-widgets/base",
            "_model_module_version": "1.2.0",
            "_model_name": "LayoutModel",
            "_view_count": null,
            "_view_module": "@jupyter-widgets/base",
            "_view_module_version": "1.2.0",
            "_view_name": "LayoutView",
            "align_content": null,
            "align_items": null,
            "align_self": null,
            "border": null,
            "bottom": null,
            "display": null,
            "flex": null,
            "flex_flow": null,
            "grid_area": null,
            "grid_auto_columns": null,
            "grid_auto_flow": null,
            "grid_auto_rows": null,
            "grid_column": null,
            "grid_gap": null,
            "grid_row": null,
            "grid_template_areas": null,
            "grid_template_columns": null,
            "grid_template_rows": null,
            "height": null,
            "justify_content": null,
            "justify_items": null,
            "left": null,
            "margin": null,
            "max_height": null,
            "max_width": null,
            "min_height": null,
            "min_width": null,
            "object_fit": null,
            "object_position": null,
            "order": null,
            "overflow": null,
            "overflow_x": null,
            "overflow_y": null,
            "padding": null,
            "right": null,
            "top": null,
            "visibility": null,
            "width": null
          }
        },
        "a9ee8c5b60dc491f9a5167dedbc1c2ca": {
          "model_module": "@jupyter-widgets/controls",
          "model_module_version": "1.5.0",
          "model_name": "DescriptionStyleModel",
          "state": {
            "_model_module": "@jupyter-widgets/controls",
            "_model_module_version": "1.5.0",
            "_model_name": "DescriptionStyleModel",
            "_view_count": null,
            "_view_module": "@jupyter-widgets/base",
            "_view_module_version": "1.2.0",
            "_view_name": "StyleView",
            "description_width": ""
          }
        },
        "af05473e746344a7b308750ad1630f51": {
          "model_module": "@jupyter-widgets/controls",
          "model_module_version": "1.5.0",
          "model_name": "HTMLModel",
          "state": {
            "_dom_classes": [],
            "_model_module": "@jupyter-widgets/controls",
            "_model_module_version": "1.5.0",
            "_model_name": "HTMLModel",
            "_view_count": null,
            "_view_module": "@jupyter-widgets/controls",
            "_view_module_version": "1.5.0",
            "_view_name": "HTMLView",
            "description": "",
            "description_tooltip": null,
            "layout": "IPY_MODEL_9b93e373c88942f4a9e26c671c74c0b0",
            "placeholder": "​",
            "style": "IPY_MODEL_60038c102e0f45a99f66f0a7641500bf",
            "value": " 112/112 [00:00&lt;00:00, 2.91kB/s]"
          }
        },
        "af4bb919be6f4714a5ef97f675750952": {
          "model_module": "@jupyter-widgets/controls",
          "model_module_version": "1.5.0",
          "model_name": "ProgressStyleModel",
          "state": {
            "_model_module": "@jupyter-widgets/controls",
            "_model_module_version": "1.5.0",
            "_model_name": "ProgressStyleModel",
            "_view_count": null,
            "_view_module": "@jupyter-widgets/base",
            "_view_module_version": "1.2.0",
            "_view_name": "StyleView",
            "bar_color": null,
            "description_width": ""
          }
        },
        "b8983d3e7ab34849bcf68996c84bb92b": {
          "model_module": "@jupyter-widgets/base",
          "model_module_version": "1.2.0",
          "model_name": "LayoutModel",
          "state": {
            "_model_module": "@jupyter-widgets/base",
            "_model_module_version": "1.2.0",
            "_model_name": "LayoutModel",
            "_view_count": null,
            "_view_module": "@jupyter-widgets/base",
            "_view_module_version": "1.2.0",
            "_view_name": "LayoutView",
            "align_content": null,
            "align_items": null,
            "align_self": null,
            "border": null,
            "bottom": null,
            "display": null,
            "flex": null,
            "flex_flow": null,
            "grid_area": null,
            "grid_auto_columns": null,
            "grid_auto_flow": null,
            "grid_auto_rows": null,
            "grid_column": null,
            "grid_gap": null,
            "grid_row": null,
            "grid_template_areas": null,
            "grid_template_columns": null,
            "grid_template_rows": null,
            "height": null,
            "justify_content": null,
            "justify_items": null,
            "left": null,
            "margin": null,
            "max_height": null,
            "max_width": null,
            "min_height": null,
            "min_width": null,
            "object_fit": null,
            "object_position": null,
            "order": null,
            "overflow": null,
            "overflow_x": null,
            "overflow_y": null,
            "padding": null,
            "right": null,
            "top": null,
            "visibility": null,
            "width": null
          }
        },
        "c05b05a46b534c59a49dd56fe7bd848b": {
          "model_module": "@jupyter-widgets/base",
          "model_module_version": "1.2.0",
          "model_name": "LayoutModel",
          "state": {
            "_model_module": "@jupyter-widgets/base",
            "_model_module_version": "1.2.0",
            "_model_name": "LayoutModel",
            "_view_count": null,
            "_view_module": "@jupyter-widgets/base",
            "_view_module_version": "1.2.0",
            "_view_name": "LayoutView",
            "align_content": null,
            "align_items": null,
            "align_self": null,
            "border": null,
            "bottom": null,
            "display": null,
            "flex": null,
            "flex_flow": null,
            "grid_area": null,
            "grid_auto_columns": null,
            "grid_auto_flow": null,
            "grid_auto_rows": null,
            "grid_column": null,
            "grid_gap": null,
            "grid_row": null,
            "grid_template_areas": null,
            "grid_template_columns": null,
            "grid_template_rows": null,
            "height": null,
            "justify_content": null,
            "justify_items": null,
            "left": null,
            "margin": null,
            "max_height": null,
            "max_width": null,
            "min_height": null,
            "min_width": null,
            "object_fit": null,
            "object_position": null,
            "order": null,
            "overflow": null,
            "overflow_x": null,
            "overflow_y": null,
            "padding": null,
            "right": null,
            "top": null,
            "visibility": null,
            "width": null
          }
        },
        "c5302ee764874c4eb927e5e43af546a8": {
          "model_module": "@jupyter-widgets/controls",
          "model_module_version": "1.5.0",
          "model_name": "DescriptionStyleModel",
          "state": {
            "_model_module": "@jupyter-widgets/controls",
            "_model_module_version": "1.5.0",
            "_model_name": "DescriptionStyleModel",
            "_view_count": null,
            "_view_module": "@jupyter-widgets/base",
            "_view_module_version": "1.2.0",
            "_view_name": "StyleView",
            "description_width": ""
          }
        },
        "c9983b8561a34b05aec648d624573e17": {
          "model_module": "@jupyter-widgets/controls",
          "model_module_version": "1.5.0",
          "model_name": "DescriptionStyleModel",
          "state": {
            "_model_module": "@jupyter-widgets/controls",
            "_model_module_version": "1.5.0",
            "_model_name": "DescriptionStyleModel",
            "_view_count": null,
            "_view_module": "@jupyter-widgets/base",
            "_view_module_version": "1.2.0",
            "_view_name": "StyleView",
            "description_width": ""
          }
        },
        "db06eb31ded248ab9374744ddc4d2922": {
          "model_module": "@jupyter-widgets/controls",
          "model_module_version": "1.5.0",
          "model_name": "HBoxModel",
          "state": {
            "_dom_classes": [],
            "_model_module": "@jupyter-widgets/controls",
            "_model_module_version": "1.5.0",
            "_model_name": "HBoxModel",
            "_view_count": null,
            "_view_module": "@jupyter-widgets/controls",
            "_view_module_version": "1.5.0",
            "_view_name": "HBoxView",
            "box_style": "",
            "children": [
              "IPY_MODEL_7f81661426d14e52ac82066c39aec273",
              "IPY_MODEL_7e308af116e7483fa2d29d38e7d2ed89",
              "IPY_MODEL_e11a14467d4b4e1d9b5da98a8e375aa5"
            ],
            "layout": "IPY_MODEL_98c6c4fdefda4ab19e54259a775ea6e7"
          }
        },
        "de251a12a8a649b98776ffb526df9243": {
          "model_module": "@jupyter-widgets/controls",
          "model_module_version": "1.5.0",
          "model_name": "DescriptionStyleModel",
          "state": {
            "_model_module": "@jupyter-widgets/controls",
            "_model_module_version": "1.5.0",
            "_model_name": "DescriptionStyleModel",
            "_view_count": null,
            "_view_module": "@jupyter-widgets/base",
            "_view_module_version": "1.2.0",
            "_view_name": "StyleView",
            "description_width": ""
          }
        },
        "e11a14467d4b4e1d9b5da98a8e375aa5": {
          "model_module": "@jupyter-widgets/controls",
          "model_module_version": "1.5.0",
          "model_name": "HTMLModel",
          "state": {
            "_dom_classes": [],
            "_model_module": "@jupyter-widgets/controls",
            "_model_module_version": "1.5.0",
            "_model_name": "HTMLModel",
            "_view_count": null,
            "_view_module": "@jupyter-widgets/controls",
            "_view_module_version": "1.5.0",
            "_view_name": "HTMLView",
            "description": "",
            "description_tooltip": null,
            "layout": "IPY_MODEL_4af0c43e3c5a404bb0783e68b65ca042",
            "placeholder": "​",
            "style": "IPY_MODEL_a9ee8c5b60dc491f9a5167dedbc1c2ca",
            "value": " 751k/751k [00:00&lt;00:00, 785kB/s]"
          }
        },
        "eb8ed53002db4236b34b9f3ce5953dc6": {
          "model_module": "@jupyter-widgets/controls",
          "model_module_version": "1.5.0",
          "model_name": "HTMLModel",
          "state": {
            "_dom_classes": [],
            "_model_module": "@jupyter-widgets/controls",
            "_model_module_version": "1.5.0",
            "_model_name": "HTMLModel",
            "_view_count": null,
            "_view_module": "@jupyter-widgets/controls",
            "_view_module_version": "1.5.0",
            "_view_name": "HTMLView",
            "description": "",
            "description_tooltip": null,
            "layout": "IPY_MODEL_21bd4faeef4f471985e58bd5b13cd72a",
            "placeholder": "​",
            "style": "IPY_MODEL_c9983b8561a34b05aec648d624573e17",
            "value": "Downloading (…)okenizer_config.json: 100%"
          }
        },
        "f81c91a69936400087b3b8e3dce6ca68": {
          "model_module": "@jupyter-widgets/base",
          "model_module_version": "1.2.0",
          "model_name": "LayoutModel",
          "state": {
            "_model_module": "@jupyter-widgets/base",
            "_model_module_version": "1.2.0",
            "_model_name": "LayoutModel",
            "_view_count": null,
            "_view_module": "@jupyter-widgets/base",
            "_view_module_version": "1.2.0",
            "_view_name": "LayoutView",
            "align_content": null,
            "align_items": null,
            "align_self": null,
            "border": null,
            "bottom": null,
            "display": null,
            "flex": null,
            "flex_flow": null,
            "grid_area": null,
            "grid_auto_columns": null,
            "grid_auto_flow": null,
            "grid_auto_rows": null,
            "grid_column": null,
            "grid_gap": null,
            "grid_row": null,
            "grid_template_areas": null,
            "grid_template_columns": null,
            "grid_template_rows": null,
            "height": null,
            "justify_content": null,
            "justify_items": null,
            "left": null,
            "margin": null,
            "max_height": null,
            "max_width": null,
            "min_height": null,
            "min_width": null,
            "object_fit": null,
            "object_position": null,
            "order": null,
            "overflow": null,
            "overflow_x": null,
            "overflow_y": null,
            "padding": null,
            "right": null,
            "top": null,
            "visibility": null,
            "width": null
          }
        },
        "fac3024ee0574d45b578c868cffe65b2": {
          "model_module": "@jupyter-widgets/base",
          "model_module_version": "1.2.0",
          "model_name": "LayoutModel",
          "state": {
            "_model_module": "@jupyter-widgets/base",
            "_model_module_version": "1.2.0",
            "_model_name": "LayoutModel",
            "_view_count": null,
            "_view_module": "@jupyter-widgets/base",
            "_view_module_version": "1.2.0",
            "_view_name": "LayoutView",
            "align_content": null,
            "align_items": null,
            "align_self": null,
            "border": null,
            "bottom": null,
            "display": null,
            "flex": null,
            "flex_flow": null,
            "grid_area": null,
            "grid_auto_columns": null,
            "grid_auto_flow": null,
            "grid_auto_rows": null,
            "grid_column": null,
            "grid_gap": null,
            "grid_row": null,
            "grid_template_areas": null,
            "grid_template_columns": null,
            "grid_template_rows": null,
            "height": null,
            "justify_content": null,
            "justify_items": null,
            "left": null,
            "margin": null,
            "max_height": null,
            "max_width": null,
            "min_height": null,
            "min_width": null,
            "object_fit": null,
            "object_position": null,
            "order": null,
            "overflow": null,
            "overflow_x": null,
            "overflow_y": null,
            "padding": null,
            "right": null,
            "top": null,
            "visibility": null,
            "width": null
          }
        }
      }
    }
  },
  "nbformat": 4,
  "nbformat_minor": 0
}